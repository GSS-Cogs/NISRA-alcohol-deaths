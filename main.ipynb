{
 "cells": [
  {
   "cell_type": "code",
   "execution_count": 1,
   "metadata": {},
   "outputs": [
    {
     "data": {
      "text/plain": [
       "'https://www.nisra.gov.uk/sites/nisra.gov.uk/files/publications/Alcohol_Tables_16_0.xls'"
      ]
     },
     "execution_count": 1,
     "metadata": {},
     "output_type": "execute_result"
    }
   ],
   "source": [
    "from gssutils import *\n",
    "\n",
    "scraper = Scraper('https://www.nisra.gov.uk/publications/alcohol-related-deaths-2006-2016')\n",
    "scraper.distribution(\n",
    "    title='Alcohol Related Deaths Tables 2006-2016'\n",
    ").downloadURL"
   ]
  },
  {
   "cell_type": "code",
   "execution_count": 2,
   "metadata": {},
   "outputs": [
    {
     "data": {
      "text/plain": [
       "dict_keys(['Contents', 'Table 1a', 'Table 1b', 'Figure 1', 'Table 2a', 'Table 2b', 'Figure 2', 'Table 3a', 'Table 3b', 'Table 4a', 'Table 4b', 'Table 5a(i)', 'Table 5a(ii)', 'Table 5b(i)', 'Table 5b(ii)', 'Figure 3', 'Notes'])"
      ]
     },
     "execution_count": 2,
     "metadata": {},
     "output_type": "execute_result"
    }
   ],
   "source": [
    "sheets = {s.name: s for s in scraper.distribution().as_databaker()}\n",
    "sheets.keys()\n"
   ]
  },
  {
   "cell_type": "code",
   "execution_count": 3,
   "metadata": {},
   "outputs": [
    {
     "name": "stdout",
     "output_type": "stream",
     "text": [
      "\n",
      "\n",
      "\n",
      "\n",
      "\n",
      "\n"
     ]
    }
   ],
   "source": [
    "from pathlib import Path\n",
    "\n",
    "out = Path('out')\n",
    "out.mkdir(exist_ok=True, parents=True)\n",
    "\n",
    "for tab_name, notebook in [\n",
    "    ('Table 1a', 'Number of alcohol related deaths by sex and registration year.ipynb'),\n",
    "    ('Table 2a', 'Number of alcohol related deaths by age and registration year.ipynb'),\n",
    "    ('Table 3a', 'Number of alcohol related deaths by underlying cause of death and registration year.ipynb'),\n",
    "    ('Table 4a', 'Number of alcohol related deaths by Health and Social Care Trust and registration year.ipynb'),\n",
    "    ('Table 5a(i)', 'Number of alcohol related deaths by deprivation quintile NIMDM101 and death rate.ipynb'),\n",
    "    ('Table 5a(ii)', 'Number of alcohol related deaths by deprivation quintile NIMDM171 and death rate.ipynb')\n",
    "]:\n",
    "    tab = sheets[tab_name]\n",
    "    %run \"$notebook\"\n",
    "    new_table.to_csv(out / (pathify(tab_name) + '.csv'), index=False)"
   ]
  },
  {
   "cell_type": "code",
   "execution_count": 4,
   "metadata": {},
   "outputs": [],
   "source": [
    "scraper.dataset.family = 'health'\n",
    "\n",
    "with open(out / 'dataset.trig', 'wb') as metadata:\n",
    "    metadata.write(scraper.generate_trig())"
   ]
  }
 ],
 "metadata": {
  "kernelspec": {
   "display_name": "Python 3",
   "language": "python",
   "name": "python3"
  },
  "language_info": {
   "codemirror_mode": {
    "name": "ipython",
    "version": 3
   },
   "file_extension": ".py",
   "mimetype": "text/x-python",
   "name": "python",
   "nbconvert_exporter": "python",
   "pygments_lexer": "ipython3",
   "version": "3.6.6"
  }
 },
 "nbformat": 4,
 "nbformat_minor": 2
}
