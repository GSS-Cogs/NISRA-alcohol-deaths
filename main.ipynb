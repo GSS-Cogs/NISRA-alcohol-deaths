{
 "cells": [
  {
   "cell_type": "code",
   "execution_count": 1,
   "metadata": {},
   "outputs": [
    {
     "data": {
      "text/plain": [
       "'https://www.nisra.gov.uk/sites/nisra.gov.uk/files/publications/Alcohol_Tables_17.xls'"
      ]
     },
     "execution_count": 1,
     "metadata": {},
     "output_type": "execute_result"
    }
   ],
   "source": [
    "from gssutils import *\n",
    "\n",
    "scraper = Scraper('https://www.nisra.gov.uk/publications/alcohol-related-deaths-2007-2017')\n",
    "scraper.distribution(\n",
    "    title='Alcohol Related Deaths Tables 2007- 2017'\n",
    ").downloadURL"
   ]
  },
  {
   "cell_type": "code",
   "execution_count": 2,
   "metadata": {},
   "outputs": [
    {
     "name": "stdout",
     "output_type": "stream",
     "text": [
      "Loading in\\Alcohol_Tables_17.xls which has size 900608 bytes\n",
      "Table names: ['Table 2']\n"
     ]
    }
   ],
   "source": [
    "if is_interactive():\n",
    "    import requests\n",
    "    from cachecontrol import CacheControl\n",
    "    from cachecontrol.caches.file_cache import FileCache\n",
    "    from cachecontrol.heuristics import LastModified\n",
    "    from pathlib import Path\n",
    "\n",
    "    session = CacheControl(requests.Session(),\n",
    "                           cache=FileCache('.cache'),\n",
    "                           heuristic=LastModified())\n",
    "\n",
    "    sourceFolder = Path('in')\n",
    "    sourceFolder.mkdir(exist_ok=True)\n",
    "\n",
    "    inputURL = 'https://www.nisra.gov.uk/sites/nisra.gov.uk/files/publications/Alcohol_Tables_17.xls'\n",
    "    inputFile = sourceFolder / 'Alcohol_Tables_17.xls'\n",
    "    response = session.get(inputURL)\n",
    "    with open(inputFile, 'wb') as f:\n",
    "      f.write(response.content)\n",
    "    tab = loadxlstabs(inputFile, sheetids='Table 2')[0]"
   ]
  },
  {
   "cell_type": "code",
   "execution_count": 3,
   "metadata": {
    "collapsed": true
   },
   "outputs": [],
   "source": [
    "tidy = pd.DataFrame()"
   ]
  },
  {
   "cell_type": "code",
   "execution_count": 4,
   "metadata": {},
   "outputs": [
    {
     "data": {
      "text/html": [
       "<div id=\"injblock1001\">\n",
       "<style>\n",
       "table.ex, table.exkey { border: thin black solid }\n",
       "table.ex td, table.ex tr { border: none }\n",
       "table.ex td:hover { border: thin blue solid }\n",
       "table.ex td.excOBS:hover { border: thin red solid }\n",
       "table.ex td.selected { border: thick red solid }\n",
       "</style>\n",
       "\n",
       "\n",
       "<table class=\"exkey\">\n",
       "<tr><td class=\"xc0\" style=\"background-color:Aqua\">OBS</td><td class=\"xc1\" style=\"background-color:LightGreen\">Year</td><td class=\"xc2\" style=\"background-color:MistyRose\">Age</td></tr></table>\n",
       "\n",
       "<table class=\"ex\">\n",
       "<caption style=\"text-align:center; padding:0px; caption-side:bottom\">Table 2</caption>\n",
       "<tr><td style=\"font-weight:bold\" title=\"0 0\">Table 2:  Number of alcohol related deaths by age and registration year, 2007-2017 </td><td title=\"1 0\"></td><td title=\"2 0\"></td><td title=\"3 0\"></td><td title=\"4 0\"></td><td title=\"5 0\"></td><td title=\"6 0\"></td><td title=\"7 0\"></td><td title=\"8 0\"></td><td title=\"9 0\"></td><td title=\"10 0\"></td><td title=\"11 0\"></td></tr>\n",
       "<tr><td title=\"0 1\"></td><td title=\"1 1\"></td><td title=\"2 1\"></td><td title=\"3 1\"></td><td title=\"4 1\"></td><td title=\"5 1\"></td><td title=\"6 1\"></td><td title=\"7 1\"></td><td title=\"8 1\"></td><td title=\"9 1\"></td><td title=\"10 1\"></td><td title=\"11 1\"></td></tr>\n",
       "<tr><td title=\"0 2\">Registration Year</td><td style=\"background-color:MistyRose\" title=\"1 2\">All Ages</td><td style=\"background-color:MistyRose\" title=\"2 2\">Age Group</td><td title=\"3 2\"></td><td title=\"4 2\"></td><td title=\"5 2\"></td><td title=\"6 2\"></td><td title=\"7 2\"></td><td title=\"8 2\"></td><td style=\"background-color:MistyRose\" title=\"9 2\">Median Age</td><td title=\"10 2\"></td><td title=\"11 2\"></td></tr>\n",
       "<tr><td title=\"0 3\"></td><td title=\"1 3\"></td><td style=\"background-color:MistyRose\" title=\"2 3\">Under 25</td><td style=\"background-color:MistyRose\" title=\"3 3\">25-34</td><td style=\"background-color:MistyRose\" title=\"4 3\">35-44</td><td style=\"background-color:MistyRose\" title=\"5 3\">45-54</td><td style=\"background-color:MistyRose\" title=\"6 3\">55-64</td><td style=\"background-color:MistyRose\" title=\"7 3\">65-74</td><td style=\"background-color:MistyRose\" title=\"8 3\">75 and over</td><td title=\"9 3\"></td><td title=\"10 3\"></td><td title=\"11 3\"></td></tr>\n",
       "<tr><td style=\"background-color:LightGreen\" title=\"0 4\">2007.0</td><td style=\"background-color:Aqua;font-weight:bold\" title=\"1 4\">238.0</td><td style=\"background-color:Aqua\" title=\"2 4\">1.0</td><td style=\"background-color:Aqua\" title=\"3 4\">9.0</td><td style=\"background-color:Aqua\" title=\"4 4\">62.0</td><td style=\"background-color:Aqua\" title=\"5 4\">77.0</td><td style=\"background-color:Aqua\" title=\"6 4\">56.0</td><td style=\"background-color:Aqua\" title=\"7 4\">25.0</td><td style=\"background-color:Aqua\" title=\"8 4\">8.0</td><td style=\"background-color:Aqua\" title=\"9 4\">50.0</td><td title=\"10 4\"></td><td title=\"11 4\"></td></tr>\n",
       "<tr><td style=\"background-color:LightGreen\" title=\"0 5\">2008.0</td><td style=\"background-color:Aqua;font-weight:bold\" title=\"1 5\">243.0</td><td style=\"background-color:Aqua\" title=\"2 5\">0.0</td><td style=\"background-color:Aqua\" title=\"3 5\">6.0</td><td style=\"background-color:Aqua\" title=\"4 5\">33.0</td><td style=\"background-color:Aqua\" title=\"5 5\">94.0</td><td style=\"background-color:Aqua\" title=\"6 5\">69.0</td><td style=\"background-color:Aqua\" title=\"7 5\">34.0</td><td style=\"background-color:Aqua\" title=\"8 5\">7.0</td><td style=\"background-color:Aqua\" title=\"9 5\">53.0</td><td title=\"10 5\"></td><td title=\"11 5\"></td></tr>\n",
       "<tr><td style=\"background-color:LightGreen\" title=\"0 6\">2009.0</td><td style=\"background-color:Aqua;font-weight:bold\" title=\"1 6\">249.0</td><td style=\"background-color:Aqua\" title=\"2 6\">0.0</td><td style=\"background-color:Aqua\" title=\"3 6\">8.0</td><td style=\"background-color:Aqua\" title=\"4 6\">43.0</td><td style=\"background-color:Aqua\" title=\"5 6\">92.0</td><td style=\"background-color:Aqua\" title=\"6 6\">71.0</td><td style=\"background-color:Aqua\" title=\"7 6\">27.0</td><td style=\"background-color:Aqua\" title=\"8 6\">8.0</td><td style=\"background-color:Aqua\" title=\"9 6\">53.0</td><td title=\"10 6\"></td><td title=\"11 6\"></td></tr>\n",
       "<tr><td style=\"background-color:LightGreen\" title=\"0 7\">2010.0</td><td style=\"background-color:Aqua;font-weight:bold\" title=\"1 7\">260.0</td><td style=\"background-color:Aqua\" title=\"2 7\">0.0</td><td style=\"background-color:Aqua\" title=\"3 7\">12.0</td><td style=\"background-color:Aqua\" title=\"4 7\">33.0</td><td style=\"background-color:Aqua\" title=\"5 7\">102.0</td><td style=\"background-color:Aqua\" title=\"6 7\">76.0</td><td style=\"background-color:Aqua\" title=\"7 7\">30.0</td><td style=\"background-color:Aqua\" title=\"8 7\">7.0</td><td style=\"background-color:Aqua\" title=\"9 7\">52.5</td><td title=\"10 7\"></td><td title=\"11 7\"></td></tr>\n",
       "<tr><td style=\"background-color:LightGreen\" title=\"0 8\">2011.0</td><td style=\"background-color:Aqua;font-weight:bold\" title=\"1 8\">228.0</td><td style=\"background-color:Aqua\" title=\"2 8\">0.0</td><td style=\"background-color:Aqua\" title=\"3 8\">6.0</td><td style=\"background-color:Aqua\" title=\"4 8\">52.0</td><td style=\"background-color:Aqua\" title=\"5 8\">73.0</td><td style=\"background-color:Aqua\" title=\"6 8\">62.0</td><td style=\"background-color:Aqua\" title=\"7 8\">27.0</td><td style=\"background-color:Aqua\" title=\"8 8\">8.0</td><td style=\"background-color:Aqua\" title=\"9 8\">52.0</td><td title=\"10 8\"></td><td title=\"11 8\"></td></tr>\n",
       "<tr><td style=\"background-color:LightGreen\" title=\"0 9\">2012.0</td><td style=\"background-color:Aqua;font-weight:bold\" title=\"1 9\">244.0</td><td style=\"background-color:Aqua\" title=\"2 9\">1.0</td><td style=\"background-color:Aqua\" title=\"3 9\">5.0</td><td style=\"background-color:Aqua\" title=\"4 9\">51.0</td><td style=\"background-color:Aqua\" title=\"5 9\">77.0</td><td style=\"background-color:Aqua\" title=\"6 9\">75.0</td><td style=\"background-color:Aqua\" title=\"7 9\">30.0</td><td style=\"background-color:Aqua\" title=\"8 9\">5.0</td><td style=\"background-color:Aqua\" title=\"9 9\">53.0</td><td title=\"10 9\"></td><td title=\"11 9\"></td></tr>\n",
       "<tr><td style=\"background-color:LightGreen\" title=\"0 10\">2013.0</td><td style=\"background-color:Aqua;font-weight:bold\" title=\"1 10\">206.0</td><td style=\"background-color:Aqua\" title=\"2 10\">0.0</td><td style=\"background-color:Aqua\" title=\"3 10\">7.0</td><td style=\"background-color:Aqua\" title=\"4 10\">27.0</td><td style=\"background-color:Aqua\" title=\"5 10\">76.0</td><td style=\"background-color:Aqua\" title=\"6 10\">64.0</td><td style=\"background-color:Aqua\" title=\"7 10\">30.0</td><td style=\"background-color:Aqua\" title=\"8 10\">2.0</td><td style=\"background-color:Aqua\" title=\"9 10\">54.0</td><td title=\"10 10\"></td><td title=\"11 10\"></td></tr>\n",
       "<tr><td style=\"background-color:LightGreen\" title=\"0 11\">2014.0</td><td style=\"background-color:Aqua;font-weight:bold\" title=\"1 11\">219.0</td><td style=\"background-color:Aqua\" title=\"2 11\">0.0</td><td style=\"background-color:Aqua\" title=\"3 11\">4.0</td><td style=\"background-color:Aqua\" title=\"4 11\">28.0</td><td style=\"background-color:Aqua\" title=\"5 11\">76.0</td><td style=\"background-color:Aqua\" title=\"6 11\">73.0</td><td style=\"background-color:Aqua\" title=\"7 11\">29.0</td><td style=\"background-color:Aqua\" title=\"8 11\">9.0</td><td style=\"background-color:Aqua\" title=\"9 11\">55.0</td><td title=\"10 11\"></td><td title=\"11 11\"></td></tr>\n",
       "<tr><td style=\"background-color:LightGreen\" title=\"0 12\">2015.0</td><td style=\"background-color:Aqua;font-weight:bold\" title=\"1 12\">282.0</td><td style=\"background-color:Aqua\" title=\"2 12\">1.0</td><td style=\"background-color:Aqua\" title=\"3 12\">6.0</td><td style=\"background-color:Aqua\" title=\"4 12\">42.0</td><td style=\"background-color:Aqua\" title=\"5 12\">104.0</td><td style=\"background-color:Aqua\" title=\"6 12\">79.0</td><td style=\"background-color:Aqua\" title=\"7 12\">40.0</td><td style=\"background-color:Aqua\" title=\"8 12\">10.0</td><td style=\"background-color:Aqua\" title=\"9 12\">54.0</td><td title=\"10 12\"></td><td title=\"11 12\"></td></tr>\n",
       "<tr><td style=\"background-color:LightGreen\" title=\"0 13\">2016.0</td><td style=\"background-color:Aqua;font-weight:bold\" title=\"1 13\">289.0</td><td style=\"background-color:Aqua\" title=\"2 13\">1.0</td><td style=\"background-color:Aqua\" title=\"3 13\">10.0</td><td style=\"background-color:Aqua\" title=\"4 13\">31.0</td><td style=\"background-color:Aqua\" title=\"5 13\">90.0</td><td style=\"background-color:Aqua\" title=\"6 13\">95.0</td><td style=\"background-color:Aqua\" title=\"7 13\">47.0</td><td style=\"background-color:Aqua\" title=\"8 13\">15.0</td><td style=\"background-color:Aqua\" title=\"9 13\">55.0</td><td title=\"10 13\"></td><td title=\"11 13\"></td></tr>\n",
       "<tr><td style=\"background-color:LightGreen\" title=\"0 14\">2017.0</td><td style=\"background-color:Aqua;font-weight:bold\" title=\"1 14\">303.0</td><td style=\"background-color:Aqua\" title=\"2 14\">0.0</td><td style=\"background-color:Aqua\" title=\"3 14\">10.0</td><td style=\"background-color:Aqua\" title=\"4 14\">39.0</td><td style=\"background-color:Aqua\" title=\"5 14\">98.0</td><td style=\"background-color:Aqua\" title=\"6 14\">97.0</td><td style=\"background-color:Aqua\" title=\"7 14\">44.0</td><td style=\"background-color:Aqua\" title=\"8 14\">15.0</td><td style=\"background-color:Aqua\" title=\"9 14\">55.0</td><td title=\"10 14\"></td><td title=\"11 14\"></td></tr>\n",
       "<tr><td style=\"background-color:LightGreen\" title=\"0 15\">Total (2007-2017)</td><td style=\"background-color:Aqua;font-weight:bold\" title=\"1 15\">2668.0</td><td style=\"background-color:Aqua;font-weight:bold\" title=\"2 15\">4.0</td><td style=\"background-color:Aqua;font-weight:bold\" title=\"3 15\">83.0</td><td style=\"background-color:Aqua;font-weight:bold\" title=\"4 15\">441.0</td><td style=\"background-color:Aqua;font-weight:bold\" title=\"5 15\">959.0</td><td style=\"background-color:Aqua;font-weight:bold\" title=\"6 15\">817.0</td><td style=\"background-color:Aqua;font-weight:bold\" title=\"7 15\">363.0</td><td style=\"background-color:Aqua;font-weight:bold\" title=\"8 15\">94.0</td><td style=\"background-color:Aqua;font-weight:bold\" title=\"9 15\">54.0</td><td title=\"10 15\"></td><td title=\"11 15\"></td></tr>\n",
       "<tr><td title=\"0 16\"></td><td title=\"1 16\"></td><td title=\"2 16\"></td><td title=\"3 16\"></td><td title=\"4 16\"></td><td title=\"5 16\"></td><td title=\"6 16\"></td><td title=\"7 16\"></td><td title=\"8 16\"></td><td title=\"9 16\"></td><td title=\"10 16\"></td><td title=\"11 16\"></td></tr>\n",
       "<tr><td style=\"background-color:LightGreen\" title=\"0 17\">Note: The definition of alcohol-specific deaths was revised in 2017.</td><td title=\"1 17\"></td><td title=\"2 17\"></td><td title=\"3 17\"></td><td title=\"4 17\"></td><td title=\"5 17\"></td><td title=\"6 17\"></td><td title=\"7 17\"></td><td title=\"8 17\"></td><td title=\"9 17\"></td><td title=\"10 17\"></td><td title=\"11 17\"></td></tr>\n",
       "<tr><td style=\"background-color:LightGreen\" title=\"0 18\">Please see the 'Notes' section for further details.</td><td title=\"1 18\"></td><td title=\"2 18\"></td><td title=\"3 18\"></td><td title=\"4 18\"></td><td title=\"5 18\"></td><td title=\"6 18\"></td><td title=\"7 18\"></td><td title=\"8 18\"></td><td title=\"9 18\"></td><td title=\"10 18\"></td><td title=\"11 18\"></td></tr>\n",
       "</table>\n",
       "\n",
       "</div>\n",
       "\n",
       "<script>\n",
       "var jslookup = {\"6 5\":[0,5,6,3],\"1 9\":[0,9,1,2],\"1 7\":[0,7,1,2],\"1 5\":[0,5,1,2],\"8 12\":[0,12,8,3],\"8 6\":[0,6,8,3],\"6 10\":[0,10,6,3],\"9 14\":[0,14,9,2],\"6 6\":[0,6,6,3],\"8 4\":[0,4,8,3],\"7 12\":[0,12,7,3],\"7 5\":[0,5,7,3],\"4 12\":[0,12,4,3],\"1 10\":[0,10,1,2],\"3 15\":[0,15,3,3],\"1 15\":[0,15,1,2],\"4 11\":[0,11,4,3],\"9 6\":[0,6,9,2],\"9 4\":[0,4,9,2],\"3 7\":[0,7,3,3],\"9 5\":[0,5,9,2],\"8 8\":[0,8,8,3],\"8 5\":[0,5,8,3],\"9 10\":[0,10,9,2],\"2 4\":[0,4,2,3],\"5 9\":[0,9,5,3],\"9 15\":[0,15,9,2],\"7 10\":[0,10,7,3],\"6 7\":[0,7,6,3],\"8 9\":[0,9,8,3],\"6 8\":[0,8,6,3],\"3 11\":[0,11,3,3],\"4 6\":[0,6,4,3],\"2 9\":[0,9,2,3],\"8 13\":[0,13,8,3],\"2 6\":[0,6,2,3],\"8 10\":[0,10,8,3],\"2 12\":[0,12,2,3],\"8 14\":[0,14,8,3],\"5 6\":[0,6,5,3],\"7 14\":[0,14,7,3],\"4 10\":[0,10,4,3],\"2 10\":[0,10,2,3],\"7 7\":[0,7,7,3],\"5 14\":[0,14,5,3],\"1 12\":[0,12,1,2],\"8 11\":[0,11,8,3],\"1 11\":[0,11,1,2],\"4 13\":[0,13,4,3],\"8 15\":[0,15,8,3],\"2 11\":[0,11,2,3],\"5 11\":[0,11,5,3],\"6 11\":[0,11,6,3],\"3 12\":[0,12,3,3],\"3 14\":[0,14,3,3],\"5 13\":[0,13,5,3],\"3 4\":[0,4,3,3],\"4 9\":[0,9,4,3],\"3 8\":[0,8,3,3],\"7 11\":[0,11,7,3],\"9 13\":[0,13,9,2],\"9 11\":[0,11,9,2],\"3 10\":[0,10,3,3],\"1 4\":[0,4,1,2],\"3 13\":[0,13,3,3],\"1 13\":[0,13,1,2],\"5 12\":[0,12,5,3],\"5 15\":[0,15,5,3],\"8 7\":[0,7,8,3],\"5 5\":[0,5,5,3],\"6 13\":[0,13,6,3],\"5 4\":[0,4,5,3],\"4 8\":[0,8,4,3],\"4 15\":[0,15,4,3],\"9 9\":[0,9,9,2],\"7 15\":[0,15,7,3],\"1 14\":[0,14,1,2],\"6 9\":[0,9,6,3],\"6 12\":[0,12,6,3],\"9 12\":[0,12,9,2],\"6 4\":[0,4,6,3],\"7 4\":[0,4,7,3],\"4 4\":[0,4,4,3],\"4 5\":[0,5,4,3],\"7 9\":[0,9,7,3],\"2 5\":[0,5,2,3],\"4 7\":[0,7,4,3],\"7 6\":[0,6,7,3],\"2 7\":[0,7,2,3],\"7 8\":[0,8,7,3],\"2 13\":[0,13,2,3],\"4 14\":[0,14,4,3],\"9 7\":[0,7,9,2],\"3 9\":[0,9,3,3],\"7 13\":[0,13,7,3],\"5 8\":[0,8,5,3],\"2 14\":[0,14,2,3],\"6 14\":[0,14,6,3],\"3 5\":[0,5,3,3],\"2 8\":[0,8,2,3],\"3 6\":[0,6,3,3],\"5 10\":[0,10,5,3],\"2 15\":[0,15,2,3],\"6 15\":[0,15,6,3],\"9 8\":[0,8,9,2],\"5 7\":[0,7,5,3],\"1 6\":[0,6,1,2],\"1 8\":[0,8,1,2]}; \n",
       "var jdividNUM = \"injblock1001\"; \n",
       "var Dclickedcell = null; \n",
       "function clickedcell() \n",
       "{ \n",
       "    Dclickedcell = this; \n",
       "    console.log(\"jjjj\", this); \n",
       "    var rgc = new RegExp('(^|\\b)' + \"selected\".split(' ').join('|') + '(\\b|$)', 'gi'); \n",
       "    Array.prototype.forEach.call(document.querySelectorAll(\"div#\"+jdividNUM+\" table.ex td.selected\"), function(el, i) { \n",
       "        if (el.classList)  el.classList.remove(\"selected\");\n",
       "        else  el.className = el.className.replace(rgc, ' ');\n",
       "    }); \n",
       "    if (this.classList)  this.classList.add(\"selected\");\n",
       "    else this.className += ' ' + \"selected\";\n",
       "\n",
       "    var dimpairs = jslookup[this.title]; \n",
       "    if (dimpairs !== undefined) {\n",
       "        for (var i = 1; i < dimpairs.length; i += 2) {\n",
       "            var row = document.querySelectorAll(\"div#\"+jdividNUM+\" table.ex tr\")[dimpairs[i]]; \n",
       "            var el = row.querySelectorAll(\"td\")[dimpairs[i-1]]; \n",
       "            if (el.classList)  el.classList.add(\"selected\");\n",
       "            else el.className += ' ' + \"selected\";\n",
       "        }\n",
       "    }\n",
       "}\n",
       "Array.prototype.forEach.call(document.querySelectorAll(\"div#\"+jdividNUM+\" table.ex td\"), function(item, i) { item.onclick=clickedcell; }); \n",
       "</script>\n"
      ],
      "text/plain": [
       "<IPython.core.display.HTML object>"
      ]
     },
     "metadata": {},
     "output_type": "display_data"
    },
    {
     "name": "stdout",
     "output_type": "stream",
     "text": [
      "\n"
     ]
    }
   ],
   "source": [
    "cell = tab.filter('Registration Year')\n",
    "age = cell.fill(RIGHT).is_not_blank().is_not_blank().is_not_whitespace() |\\\n",
    "        cell.shift(0,1).fill(RIGHT).is_not_blank().is_not_whitespace()\n",
    "Year = cell.fill(DOWN).is_not_blank().is_not_whitespace()\n",
    "observations = Year.fill(RIGHT).is_not_blank().is_not_whitespace()\n",
    "Dimensions = [\n",
    "            HDim(Year,'Year',DIRECTLY,LEFT),\n",
    "            HDim(age, 'Age',DIRECTLY,ABOVE),\n",
    "            HDimConst('Measure Type', 'Count'),\n",
    "            HDimConst('Unit','People'),\n",
    "            HDimConst('Sex', 'T'),\n",
    "            HDimConst('Underlying Cause of Death', 'all-alcohol-related-deaths'),\n",
    "            HDimConst('Health and Social Care Trust', 'all')\n",
    "            ]\n",
    "c1 = ConversionSegment(observations, Dimensions, processTIMEUNIT=True)\n",
    "if is_interactive():\n",
    "    savepreviewhtml(c1)\n",
    "table = c1.topandas()"
   ]
  },
  {
   "cell_type": "code",
   "execution_count": 5,
   "metadata": {
    "collapsed": true
   },
   "outputs": [],
   "source": [
    "import numpy as np\n",
    "table['OBS'].replace('', np.nan, inplace=True)\n",
    "table.dropna(subset=['OBS'], inplace=True)\n",
    "table.rename(columns={'OBS': 'Value'}, inplace=True)\n",
    "table['Value'] = table['Value'].astype(int)"
   ]
  },
  {
   "cell_type": "code",
   "execution_count": 6,
   "metadata": {
    "collapsed": true
   },
   "outputs": [],
   "source": [
    "table['Period'] = 'year/' + table['Year'].astype(str).str[0:4]"
   ]
  },
  {
   "cell_type": "code",
   "execution_count": 7,
   "metadata": {
    "collapsed": true
   },
   "outputs": [],
   "source": [
    "table['Period'] = table['Period'].map(\n",
    "    lambda x: {\n",
    "        'year/Tota' : 'gregorian-interval/2007-01-01T00:00:00/P10Y'       \n",
    "        }.get(x, x))"
   ]
  },
  {
   "cell_type": "code",
   "execution_count": 8,
   "metadata": {
    "collapsed": true
   },
   "outputs": [],
   "source": [
    "table = table[table['Age'] != 'Median Age']"
   ]
  },
  {
   "cell_type": "code",
   "execution_count": 9,
   "metadata": {
    "collapsed": true
   },
   "outputs": [],
   "source": [
    "table['Age'] = table['Age'].map(\n",
    "    lambda x: {\n",
    "        '25-34' : 'nisra5/25-34' , \n",
    "        '35-44' : 'nisra5/35-44' , \n",
    "        '45-54' : 'nisra5/45-54', \n",
    "        '55-64' : 'nisra5/55-64', \n",
    "        '65-74' : 'nisra5/65-74', \n",
    "        '75 and over' : 'nisra5/75-plus' ,\n",
    "        'All Ages' : 'all',\n",
    "        'Under 25' : 'nisra5/under-25'            \n",
    "        }.get(x, x))"
   ]
  },
  {
   "cell_type": "code",
   "execution_count": 10,
   "metadata": {
    "collapsed": true
   },
   "outputs": [],
   "source": [
    "table = table[['Period','Age','Sex','Underlying Cause of Death','Health and Social Care Trust','Measure Type','Value','Unit']]"
   ]
  },
  {
   "cell_type": "code",
   "execution_count": 11,
   "metadata": {
    "collapsed": true
   },
   "outputs": [],
   "source": [
    "tidy = pd.concat([tidy,table])"
   ]
  },
  {
   "cell_type": "code",
   "execution_count": 12,
   "metadata": {},
   "outputs": [
    {
     "name": "stdout",
     "output_type": "stream",
     "text": [
      "Loading in\\Alcohol_Tables_17.xls which has size 900608 bytes\n",
      "Table names: ['Table 1']\n"
     ]
    }
   ],
   "source": [
    "tab1 = loadxlstabs(inputFile, sheetids='Table 1')[0]"
   ]
  },
  {
   "cell_type": "code",
   "execution_count": 13,
   "metadata": {},
   "outputs": [
    {
     "data": {
      "text/html": [
       "<div id=\"injblock1002\">\n",
       "<style>\n",
       "table.ex, table.exkey { border: thin black solid }\n",
       "table.ex td, table.ex tr { border: none }\n",
       "table.ex td:hover { border: thin blue solid }\n",
       "table.ex td.excOBS:hover { border: thin red solid }\n",
       "table.ex td.selected { border: thick red solid }\n",
       "</style>\n",
       "\n",
       "\n",
       "<table class=\"exkey\">\n",
       "<tr><td class=\"xc0\" style=\"background-color:Aqua\">OBS</td><td class=\"xc1\" style=\"background-color:LightGreen\">Year</td><td class=\"xc2\" style=\"background-color:MistyRose\">Sex</td></tr></table>\n",
       "\n",
       "<table class=\"ex\">\n",
       "<caption style=\"text-align:center; padding:0px; caption-side:bottom\">Table 1</caption>\n",
       "<tr><td style=\"font-weight:bold\" title=\"0 0\">Table 1:  Number of alcohol related deaths by sex and registration year, 2001-2017</td><td title=\"1 0\"></td><td title=\"2 0\"></td><td title=\"3 0\"></td></tr>\n",
       "<tr><td title=\"0 1\"></td><td title=\"1 1\"></td><td title=\"2 1\"></td><td title=\"3 1\"></td></tr>\n",
       "<tr><td style=\"font-weight:bold\" title=\"0 2\">Registration Year</td><td style=\"background-color:MistyRose;font-weight:bold\" title=\"1 2\">All Persons</td><td style=\"background-color:MistyRose;font-weight:bold\" title=\"2 2\">Sex</td><td style=\"font-weight:bold\" title=\"3 2\"></td></tr>\n",
       "<tr><td style=\"font-weight:bold\" title=\"0 3\"></td><td style=\"font-weight:bold\" title=\"1 3\"></td><td style=\"background-color:MistyRose;font-weight:bold\" title=\"2 3\">Male</td><td style=\"background-color:MistyRose;font-weight:bold\" title=\"3 3\">Female</td></tr>\n",
       "<tr><td style=\"background-color:LightGreen\" title=\"0 4\">2001.0</td><td style=\"background-color:Aqua;font-weight:bold\" title=\"1 4\">178.0</td><td style=\"background-color:Aqua\" title=\"2 4\">117.0</td><td style=\"background-color:Aqua\" title=\"3 4\">61.0</td></tr>\n",
       "<tr><td style=\"background-color:LightGreen\" title=\"0 5\">2002.0</td><td style=\"background-color:Aqua;font-weight:bold\" title=\"1 5\">194.0</td><td style=\"background-color:Aqua\" title=\"2 5\">141.0</td><td style=\"background-color:Aqua\" title=\"3 5\">53.0</td></tr>\n",
       "<tr><td style=\"background-color:LightGreen\" title=\"0 6\">2003.0</td><td style=\"background-color:Aqua;font-weight:bold\" title=\"1 6\">175.0</td><td style=\"background-color:Aqua\" title=\"2 6\">112.0</td><td style=\"background-color:Aqua\" title=\"3 6\">63.0</td></tr>\n",
       "<tr><td style=\"background-color:LightGreen\" title=\"0 7\">2004.0</td><td style=\"background-color:Aqua;font-weight:bold\" title=\"1 7\">204.0</td><td style=\"background-color:Aqua\" title=\"2 7\">142.0</td><td style=\"background-color:Aqua\" title=\"3 7\">62.0</td></tr>\n",
       "<tr><td style=\"background-color:LightGreen\" title=\"0 8\">2005.0</td><td style=\"background-color:Aqua;font-weight:bold\" title=\"1 8\">217.0</td><td style=\"background-color:Aqua\" title=\"2 8\">155.0</td><td style=\"background-color:Aqua\" title=\"3 8\">62.0</td></tr>\n",
       "<tr><td style=\"background-color:LightGreen\" title=\"0 9\">2006.0</td><td style=\"background-color:Aqua;font-weight:bold\" title=\"1 9\">210.0</td><td style=\"background-color:Aqua\" title=\"2 9\">153.0</td><td style=\"background-color:Aqua\" title=\"3 9\">57.0</td></tr>\n",
       "<tr><td style=\"background-color:LightGreen\" title=\"0 10\">2007.0</td><td style=\"background-color:Aqua;font-weight:bold\" title=\"1 10\">238.0</td><td style=\"background-color:Aqua\" title=\"2 10\">165.0</td><td style=\"background-color:Aqua\" title=\"3 10\">73.0</td></tr>\n",
       "<tr><td style=\"background-color:LightGreen\" title=\"0 11\">2008.0</td><td style=\"background-color:Aqua;font-weight:bold\" title=\"1 11\">243.0</td><td style=\"background-color:Aqua\" title=\"2 11\">165.0</td><td style=\"background-color:Aqua\" title=\"3 11\">78.0</td></tr>\n",
       "<tr><td style=\"background-color:LightGreen\" title=\"0 12\">2009.0</td><td style=\"background-color:Aqua;font-weight:bold\" title=\"1 12\">249.0</td><td style=\"background-color:Aqua\" title=\"2 12\">165.0</td><td style=\"background-color:Aqua\" title=\"3 12\">84.0</td></tr>\n",
       "<tr><td style=\"background-color:LightGreen\" title=\"0 13\">2010.0</td><td style=\"background-color:Aqua;font-weight:bold\" title=\"1 13\">260.0</td><td style=\"background-color:Aqua\" title=\"2 13\">175.0</td><td style=\"background-color:Aqua\" title=\"3 13\">85.0</td></tr>\n",
       "<tr><td style=\"background-color:LightGreen\" title=\"0 14\">2011.0</td><td style=\"background-color:Aqua;font-weight:bold\" title=\"1 14\">228.0</td><td style=\"background-color:Aqua\" title=\"2 14\">161.0</td><td style=\"background-color:Aqua\" title=\"3 14\">67.0</td></tr>\n",
       "<tr><td style=\"background-color:LightGreen\" title=\"0 15\">2012.0</td><td style=\"background-color:Aqua;font-weight:bold\" title=\"1 15\">244.0</td><td style=\"background-color:Aqua\" title=\"2 15\">159.0</td><td style=\"background-color:Aqua\" title=\"3 15\">85.0</td></tr>\n",
       "<tr><td style=\"background-color:LightGreen\" title=\"0 16\">2013.0</td><td style=\"background-color:Aqua;font-weight:bold\" title=\"1 16\">206.0</td><td style=\"background-color:Aqua\" title=\"2 16\">151.0</td><td style=\"background-color:Aqua\" title=\"3 16\">55.0</td></tr>\n",
       "<tr><td style=\"background-color:LightGreen\" title=\"0 17\">2014.0</td><td style=\"background-color:Aqua;font-weight:bold\" title=\"1 17\">219.0</td><td style=\"background-color:Aqua\" title=\"2 17\">155.0</td><td style=\"background-color:Aqua\" title=\"3 17\">64.0</td></tr>\n",
       "<tr><td style=\"background-color:LightGreen\" title=\"0 18\">2015.0</td><td style=\"background-color:Aqua;font-weight:bold\" title=\"1 18\">282.0</td><td style=\"background-color:Aqua\" title=\"2 18\">185.0</td><td style=\"background-color:Aqua\" title=\"3 18\">97.0</td></tr>\n",
       "<tr><td style=\"background-color:LightGreen\" title=\"0 19\">2016.0</td><td style=\"background-color:Aqua;font-weight:bold\" title=\"1 19\">289.0</td><td style=\"background-color:Aqua\" title=\"2 19\">184.0</td><td style=\"background-color:Aqua\" title=\"3 19\">105.0</td></tr>\n",
       "<tr><td style=\"background-color:LightGreen\" title=\"0 20\">2017.0</td><td style=\"background-color:Aqua;font-weight:bold\" title=\"1 20\">303.0</td><td style=\"background-color:Aqua\" title=\"2 20\">212.0</td><td style=\"background-color:Aqua\" title=\"3 20\">91.0</td></tr>\n",
       "<tr><td style=\"background-color:LightGreen;font-weight:bold\" title=\"0 21\">Total (2001-2017)</td><td style=\"background-color:Aqua;font-weight:bold\" title=\"1 21\">3939.0</td><td style=\"background-color:Aqua;font-weight:bold\" title=\"2 21\">2697.0</td><td style=\"background-color:Aqua;font-weight:bold\" title=\"3 21\">1242.0</td></tr>\n",
       "<tr><td title=\"0 22\"></td><td title=\"1 22\"></td><td title=\"2 22\"></td><td title=\"3 22\"></td></tr>\n",
       "<tr><td style=\"background-color:LightGreen\" title=\"0 23\">Note: The definition of alcohol-specific deaths was revised in 2017.</td><td title=\"1 23\"></td><td title=\"2 23\"></td><td title=\"3 23\"></td></tr>\n",
       "<tr><td style=\"background-color:LightGreen\" title=\"0 24\">Please see the 'Notes' section for further details.</td><td title=\"1 24\"></td><td title=\"2 24\"></td><td title=\"3 24\"></td></tr>\n",
       "</table>\n",
       "\n",
       "</div>\n",
       "\n",
       "<script>\n",
       "var jslookup = {\"3 18\":[0,18,3,3],\"3 17\":[0,17,3,3],\"1 16\":[0,16,1,2],\"1 19\":[0,19,1,2],\"1 14\":[0,14,1,2],\"2 4\":[0,4,2,3],\"2 13\":[0,13,2,3],\"3 19\":[0,19,3,3],\"1 10\":[0,10,1,2],\"1 13\":[0,13,1,2],\"3 15\":[0,15,3,3],\"3 12\":[0,12,3,3],\"2 19\":[0,19,2,3],\"3 8\":[0,8,3,3],\"2 6\":[0,6,2,3],\"2 12\":[0,12,2,3],\"1 5\":[0,5,1,2],\"3 21\":[0,21,3,3],\"2 8\":[0,8,2,3],\"3 9\":[0,9,3,3],\"1 12\":[0,12,1,2],\"3 10\":[0,10,3,3],\"2 17\":[0,17,2,3],\"3 7\":[0,7,3,3],\"3 14\":[0,14,3,3],\"1 6\":[0,6,1,2],\"3 4\":[0,4,3,3],\"2 9\":[0,9,2,3],\"1 4\":[0,4,1,2],\"2 21\":[0,21,2,3],\"1 8\":[0,8,1,2],\"2 20\":[0,20,2,3],\"2 15\":[0,15,2,3],\"1 7\":[0,7,1,2],\"2 18\":[0,18,2,3],\"1 9\":[0,9,1,2],\"1 17\":[0,17,1,2],\"2 16\":[0,16,2,3],\"2 10\":[0,10,2,3],\"1 21\":[0,21,1,2],\"3 20\":[0,20,3,3],\"3 16\":[0,16,3,3],\"3 5\":[0,5,3,3],\"2 11\":[0,11,2,3],\"2 14\":[0,14,2,3],\"1 15\":[0,15,1,2],\"1 20\":[0,20,1,2],\"3 6\":[0,6,3,3],\"2 7\":[0,7,2,3],\"3 13\":[0,13,3,3],\"3 11\":[0,11,3,3],\"1 18\":[0,18,1,2],\"2 5\":[0,5,2,3],\"1 11\":[0,11,1,2]}; \n",
       "var jdividNUM = \"injblock1002\"; \n",
       "var Dclickedcell = null; \n",
       "function clickedcell() \n",
       "{ \n",
       "    Dclickedcell = this; \n",
       "    console.log(\"jjjj\", this); \n",
       "    var rgc = new RegExp('(^|\\b)' + \"selected\".split(' ').join('|') + '(\\b|$)', 'gi'); \n",
       "    Array.prototype.forEach.call(document.querySelectorAll(\"div#\"+jdividNUM+\" table.ex td.selected\"), function(el, i) { \n",
       "        if (el.classList)  el.classList.remove(\"selected\");\n",
       "        else  el.className = el.className.replace(rgc, ' ');\n",
       "    }); \n",
       "    if (this.classList)  this.classList.add(\"selected\");\n",
       "    else this.className += ' ' + \"selected\";\n",
       "\n",
       "    var dimpairs = jslookup[this.title]; \n",
       "    if (dimpairs !== undefined) {\n",
       "        for (var i = 1; i < dimpairs.length; i += 2) {\n",
       "            var row = document.querySelectorAll(\"div#\"+jdividNUM+\" table.ex tr\")[dimpairs[i]]; \n",
       "            var el = row.querySelectorAll(\"td\")[dimpairs[i-1]]; \n",
       "            if (el.classList)  el.classList.add(\"selected\");\n",
       "            else el.className += ' ' + \"selected\";\n",
       "        }\n",
       "    }\n",
       "}\n",
       "Array.prototype.forEach.call(document.querySelectorAll(\"div#\"+jdividNUM+\" table.ex td\"), function(item, i) { item.onclick=clickedcell; }); \n",
       "</script>\n"
      ],
      "text/plain": [
       "<IPython.core.display.HTML object>"
      ]
     },
     "metadata": {},
     "output_type": "display_data"
    },
    {
     "name": "stdout",
     "output_type": "stream",
     "text": [
      "\n"
     ]
    }
   ],
   "source": [
    "cell1 = tab1.filter('Registration Year')\n",
    "sex = cell1.fill(RIGHT).is_not_blank().is_not_blank().is_not_whitespace() |\\\n",
    "        cell1.shift(0,1).fill(RIGHT).is_not_blank().is_not_whitespace()\n",
    "Year = cell1.fill(DOWN).is_not_blank().is_not_whitespace()\n",
    "observations1 = Year.fill(RIGHT).is_not_blank().is_not_whitespace()\n",
    "Dimensions1 = [\n",
    "            HDim(Year,'Year',DIRECTLY,LEFT),\n",
    "            HDim(sex, 'Sex',DIRECTLY,ABOVE),\n",
    "            HDimConst('Measure Type', 'Count'),\n",
    "            HDimConst('Unit','People'),\n",
    "            HDimConst('Age', 'all'),\n",
    "            HDimConst('Underlying Cause of Death', 'all-alcohol-related-deaths'),\n",
    "            HDimConst('Health and Social Care Trust', 'all')\n",
    "            ]\n",
    "c2 = ConversionSegment(observations1, Dimensions1, processTIMEUNIT=True)\n",
    "if is_interactive():\n",
    "    savepreviewhtml(c2)\n",
    "table1 = c2.topandas()"
   ]
  },
  {
   "cell_type": "code",
   "execution_count": 14,
   "metadata": {
    "collapsed": true
   },
   "outputs": [],
   "source": [
    "table1['OBS'].replace('', np.nan, inplace=True)\n",
    "table1.dropna(subset=['OBS'], inplace=True)\n",
    "table1.rename(columns={'OBS': 'Value'}, inplace=True)\n",
    "table1['Value'] = table1['Value'].astype(int)"
   ]
  },
  {
   "cell_type": "code",
   "execution_count": 15,
   "metadata": {
    "collapsed": true
   },
   "outputs": [],
   "source": [
    "table1['Period'] = 'year/' + table1['Year'].astype(str).str[0:4]"
   ]
  },
  {
   "cell_type": "code",
   "execution_count": 16,
   "metadata": {
    "collapsed": true
   },
   "outputs": [],
   "source": [
    "table1['Period'] = table1['Period'].map(\n",
    "    lambda x: {\n",
    "        'year/Tota' : 'gregorian-interval/2007-01-01T00:00:00/P15Y'       \n",
    "        }.get(x, x))"
   ]
  },
  {
   "cell_type": "code",
   "execution_count": 17,
   "metadata": {
    "collapsed": true
   },
   "outputs": [],
   "source": [
    "table1['Sex'] = table1['Sex'].map(\n",
    "    lambda x: {\n",
    "        'All Persons' : 'T' , \n",
    "        'Female' : 'F' , \n",
    "        'Male' : 'M', \n",
    "        }.get(x, x))"
   ]
  },
  {
   "cell_type": "code",
   "execution_count": 18,
   "metadata": {
    "collapsed": true
   },
   "outputs": [],
   "source": [
    "table1 = table1[['Period','Age','Sex','Underlying Cause of Death','Health and Social Care Trust','Measure Type','Value','Unit']]"
   ]
  },
  {
   "cell_type": "code",
   "execution_count": 19,
   "metadata": {
    "collapsed": true
   },
   "outputs": [],
   "source": [
    "tidy = pd.concat([tidy,table1])"
   ]
  },
  {
   "cell_type": "code",
   "execution_count": 20,
   "metadata": {},
   "outputs": [
    {
     "name": "stdout",
     "output_type": "stream",
     "text": [
      "Loading in\\Alcohol_Tables_17.xls which has size 900608 bytes\n",
      "Table names: ['Table 3']\n"
     ]
    }
   ],
   "source": [
    "tab2 = loadxlstabs(inputFile, sheetids='Table 3')[0]"
   ]
  },
  {
   "cell_type": "code",
   "execution_count": 21,
   "metadata": {},
   "outputs": [
    {
     "data": {
      "text/html": [
       "<div id=\"injblock1003\">\n",
       "<style>\n",
       "table.ex, table.exkey { border: thin black solid }\n",
       "table.ex td, table.ex tr { border: none }\n",
       "table.ex td:hover { border: thin blue solid }\n",
       "table.ex td.excOBS:hover { border: thin red solid }\n",
       "table.ex td.selected { border: thick red solid }\n",
       "</style>\n",
       "\n",
       "\n",
       "<table class=\"exkey\">\n",
       "<tr><td class=\"xc0\" style=\"background-color:Aqua\">OBS</td><td class=\"xc1\" style=\"background-color:LightGreen\">Year</td><td class=\"xc2\" style=\"background-color:MistyRose\">Underlying Cause of Death</td></tr></table>\n",
       "\n",
       "<table class=\"ex\">\n",
       "<caption style=\"text-align:center; padding:0px; caption-side:bottom\">Table 3</caption>\n",
       "<tr><td style=\"font-weight:bold\" title=\"0 0\">Table 3: Number of alcohol related deaths by underlying cause of death and registration year, 2007-2017</td><td style=\"font-weight:bold\" title=\"1 0\"></td><td style=\"font-weight:bold\" title=\"2 0\"></td><td style=\"font-weight:bold\" title=\"3 0\"></td><td style=\"font-weight:bold\" title=\"4 0\"></td><td title=\"5 0\"></td><td title=\"6 0\"></td><td title=\"7 0\"></td><td title=\"8 0\"></td><td title=\"9 0\"></td><td title=\"10 0\"></td><td title=\"11 0\"></td><td title=\"12 0\"></td><td title=\"13 0\"></td><td title=\"14 0\"></td></tr>\n",
       "<tr><td title=\"0 1\"></td><td title=\"1 1\"></td><td title=\"2 1\"></td><td title=\"3 1\"></td><td title=\"4 1\"></td><td title=\"5 1\"></td><td title=\"6 1\"></td><td title=\"7 1\"></td><td title=\"8 1\"></td><td title=\"9 1\"></td><td title=\"10 1\"></td><td title=\"11 1\"></td><td title=\"12 1\"></td><td title=\"13 1\"></td><td title=\"14 1\"></td></tr>\n",
       "<tr><td style=\"font-weight:bold\" title=\"0 2\">Underlying Cause (ICD-10 codes)</td><td style=\"font-weight:bold\" title=\"1 2\"></td><td style=\"font-weight:bold\" title=\"2 2\"></td><td style=\"font-weight:bold\" title=\"3 2\"></td><td style=\"font-weight:bold\" title=\"4 2\"></td><td style=\"font-weight:bold\" title=\"5 2\"></td><td style=\"font-weight:bold\" title=\"6 2\"></td><td style=\"font-weight:bold\" title=\"7 2\"></td><td style=\"font-weight:bold\" title=\"8 2\"></td><td style=\"font-weight:bold\" title=\"9 2\"></td><td style=\"font-weight:bold\" title=\"10 2\"></td><td style=\"font-weight:bold\" title=\"11 2\"></td><td style=\"background-color:LightGreen;font-weight:bold\" title=\"12 2\">Total\n",
       "(2007-2017)</td><td title=\"13 2\"></td><td title=\"14 2\"></td></tr>\n",
       "<tr><td style=\"font-weight:bold\" title=\"0 3\"></td><td style=\"background-color:LightGreen;font-weight:bold\" title=\"1 3\">2007.0</td><td style=\"background-color:LightGreen;font-weight:bold\" title=\"2 3\">2008.0</td><td style=\"background-color:LightGreen;font-weight:bold\" title=\"3 3\">2009.0</td><td style=\"background-color:LightGreen;font-weight:bold\" title=\"4 3\">2010.0</td><td style=\"background-color:LightGreen;font-weight:bold\" title=\"5 3\">2011.0</td><td style=\"background-color:LightGreen;font-weight:bold\" title=\"6 3\">2012.0</td><td style=\"background-color:LightGreen;font-weight:bold\" title=\"7 3\">2013.0</td><td style=\"background-color:LightGreen;font-weight:bold\" title=\"8 3\">2014.0</td><td style=\"background-color:LightGreen;font-weight:bold\" title=\"9 3\">2015.0</td><td style=\"background-color:LightGreen;font-weight:bold\" title=\"10 3\">2016.0</td><td style=\"background-color:LightGreen;font-weight:bold\" title=\"11 3\">2017.0</td><td style=\"font-weight:bold\" title=\"12 3\"></td><td title=\"13 3\"></td><td title=\"14 3\"></td></tr>\n",
       "<tr><td style=\"background-color:MistyRose\" title=\"0 4\">Mental and behavioural disorders due to use of alcohol (F10)</td><td style=\"background-color:Aqua\" title=\"1 4\">94.0</td><td style=\"background-color:Aqua\" title=\"2 4\">46.0</td><td style=\"background-color:Aqua\" title=\"3 4\">39.0</td><td style=\"background-color:Aqua\" title=\"4 4\">48.0</td><td style=\"background-color:Aqua\" title=\"5 4\">36.0</td><td style=\"background-color:Aqua\" title=\"6 4\">53.0</td><td style=\"background-color:Aqua\" title=\"7 4\">33.0</td><td style=\"background-color:Aqua\" title=\"8 4\">27.0</td><td style=\"background-color:Aqua\" title=\"9 4\">45.0</td><td style=\"background-color:Aqua\" title=\"10 4\">51.0</td><td style=\"background-color:Aqua\" title=\"11 4\">70.0</td><td style=\"background-color:Aqua;font-weight:bold\" title=\"12 4\">542.0</td><td title=\"13 4\"></td><td title=\"14 4\"></td></tr>\n",
       "<tr><td style=\"background-color:MistyRose\" title=\"0 5\">Accidental poisoning by and exposure to alcohol (X45)</td><td style=\"background-color:Aqua\" title=\"1 5\">2.0</td><td style=\"background-color:Aqua\" title=\"2 5\">26.0</td><td style=\"background-color:Aqua\" title=\"3 5\">26.0</td><td style=\"background-color:Aqua\" title=\"4 5\">44.0</td><td style=\"background-color:Aqua\" title=\"5 5\">27.0</td><td style=\"background-color:Aqua\" title=\"6 5\">29.0</td><td style=\"background-color:Aqua\" title=\"7 5\">25.0</td><td style=\"background-color:Aqua\" title=\"8 5\">36.0</td><td style=\"background-color:Aqua\" title=\"9 5\">28.0</td><td style=\"background-color:Aqua\" title=\"10 5\">12.0</td><td style=\"background-color:Aqua\" title=\"11 5\">21.0</td><td style=\"background-color:Aqua;font-weight:bold\" title=\"12 5\">276.0</td><td title=\"13 5\"></td><td title=\"14 5\"></td></tr>\n",
       "<tr><td style=\"background-color:MistyRose\" title=\"0 6\">Intentional self-poisoning by and exposure to alcohol or poisoning by and exposure to alcohol, undetermined intent (X65, Y15)</td><td style=\"background-color:Aqua\" title=\"1 6\">1.0</td><td style=\"background-color:Aqua\" title=\"2 6\">-</td><td style=\"background-color:Aqua\" title=\"3 6\">1.0</td><td style=\"background-color:Aqua\" title=\"4 6\">-</td><td style=\"background-color:Aqua\" title=\"5 6\">0.0</td><td style=\"background-color:Aqua\" title=\"6 6\">0.0</td><td style=\"background-color:Aqua\" title=\"7 6\">0.0</td><td style=\"background-color:Aqua\" title=\"8 6\">0.0</td><td style=\"background-color:Aqua\" title=\"9 6\">0.0</td><td style=\"background-color:Aqua\" title=\"10 6\">10.0</td><td style=\"background-color:Aqua\" title=\"11 6\">7.0</td><td style=\"background-color:Aqua;font-weight:bold\" title=\"12 6\">19.0</td><td title=\"13 6\"></td><td title=\"14 6\"></td></tr>\n",
       "<tr><td style=\"background-color:MistyRose\" title=\"0 7\">All other alcohol related deaths (E24.4, G31.2, G62.1, G72.1, I42.6, K29.2, K70, K85.2, Q86.0, R78.0, K86.0)</td><td style=\"background-color:Aqua\" title=\"1 7\">141.0</td><td style=\"background-color:Aqua\" title=\"2 7\">171.0</td><td style=\"background-color:Aqua\" title=\"3 7\">183.0</td><td style=\"background-color:Aqua\" title=\"4 7\">168.0</td><td style=\"background-color:Aqua\" title=\"5 7\">165.0</td><td style=\"background-color:Aqua\" title=\"6 7\">162.0</td><td style=\"background-color:Aqua\" title=\"7 7\">148.0</td><td style=\"background-color:Aqua\" title=\"8 7\">156.0</td><td style=\"background-color:Aqua\" title=\"9 7\">209.0</td><td style=\"background-color:Aqua\" title=\"10 7\">216.0</td><td style=\"background-color:Aqua\" title=\"11 7\">205.0</td><td style=\"background-color:Aqua;font-weight:bold\" title=\"12 7\">1924.0</td><td title=\"13 7\"></td><td title=\"14 7\"></td></tr>\n",
       "<tr><td style=\"background-color:MistyRose;font-weight:bold\" title=\"0 8\">All alcohol related deaths</td><td style=\"background-color:Aqua;font-weight:bold\" title=\"1 8\">238.0</td><td style=\"background-color:Aqua;font-weight:bold\" title=\"2 8\">243.0</td><td style=\"background-color:Aqua;font-weight:bold\" title=\"3 8\">249.0</td><td style=\"background-color:Aqua;font-weight:bold\" title=\"4 8\">260.0</td><td style=\"background-color:Aqua;font-weight:bold\" title=\"5 8\">228.0</td><td style=\"background-color:Aqua;font-weight:bold\" title=\"6 8\">244.0</td><td style=\"background-color:Aqua;font-weight:bold\" title=\"7 8\">206.0</td><td style=\"background-color:Aqua;font-weight:bold\" title=\"8 8\">219.0</td><td style=\"background-color:Aqua;font-weight:bold\" title=\"9 8\">282.0</td><td style=\"background-color:Aqua;font-weight:bold\" title=\"10 8\">289.0</td><td style=\"background-color:Aqua;font-weight:bold\" title=\"11 8\">303.0</td><td style=\"background-color:Aqua;font-weight:bold\" title=\"12 8\">2761.0</td><td title=\"13 8\"></td><td title=\"14 8\"></td></tr>\n",
       "<tr><td style=\"font-weight:bold\" title=\"0 9\"></td><td style=\"font-weight:bold\" title=\"1 9\"></td><td style=\"font-weight:bold\" title=\"2 9\"></td><td style=\"font-weight:bold\" title=\"3 9\"></td><td style=\"font-weight:bold\" title=\"4 9\"></td><td style=\"font-weight:bold\" title=\"5 9\"></td><td style=\"font-weight:bold\" title=\"6 9\"></td><td style=\"font-weight:bold\" title=\"7 9\"></td><td style=\"font-weight:bold\" title=\"8 9\"></td><td style=\"font-weight:bold\" title=\"9 9\"></td><td style=\"font-weight:bold\" title=\"10 9\"></td><td style=\"font-weight:bold\" title=\"11 9\"></td><td style=\"font-weight:bold\" title=\"12 9\"></td><td title=\"13 9\"></td><td title=\"14 9\"></td></tr>\n",
       "<tr><td style=\"background-color:MistyRose;font-weight:bold\" title=\"0 10\">Total deaths from all causes</td><td style=\"background-color:Aqua;font-weight:bold\" title=\"1 10\">14649.0</td><td style=\"background-color:Aqua;font-weight:bold\" title=\"2 10\">14907.0</td><td style=\"background-color:Aqua;font-weight:bold\" title=\"3 10\">14413.0</td><td style=\"background-color:Aqua;font-weight:bold\" title=\"4 10\">14457.0</td><td style=\"background-color:Aqua;font-weight:bold\" title=\"5 10\">14204.0</td><td style=\"background-color:Aqua;font-weight:bold\" title=\"6 10\">14756.0</td><td style=\"background-color:Aqua;font-weight:bold\" title=\"7 10\">14968.0</td><td style=\"background-color:Aqua;font-weight:bold\" title=\"8 10\">14678.0</td><td style=\"background-color:Aqua;font-weight:bold\" title=\"9 10\">15548.0</td><td style=\"background-color:Aqua;font-weight:bold\" title=\"10 10\">15430.0</td><td style=\"background-color:Aqua;font-weight:bold\" title=\"11 10\">16036.0</td><td style=\"background-color:Aqua;font-weight:bold\" title=\"12 10\">164046.0</td><td title=\"13 10\"></td><td title=\"14 10\"></td></tr>\n",
       "<tr><td title=\"0 11\"></td><td style=\"font-weight:bold\" title=\"1 11\"></td><td style=\"font-weight:bold\" title=\"2 11\"></td><td style=\"font-weight:bold\" title=\"3 11\"></td><td style=\"font-weight:bold\" title=\"4 11\"></td><td style=\"font-weight:bold\" title=\"5 11\"></td><td style=\"font-weight:bold\" title=\"6 11\"></td><td style=\"font-weight:bold\" title=\"7 11\"></td><td style=\"font-weight:bold\" title=\"8 11\"></td><td style=\"font-weight:bold\" title=\"9 11\"></td><td style=\"font-weight:bold\" title=\"10 11\"></td><td style=\"font-weight:bold\" title=\"11 11\"></td><td style=\"font-weight:bold\" title=\"12 11\"></td><td title=\"13 11\"></td><td title=\"14 11\"></td></tr>\n",
       "<tr><td style=\"background-color:MistyRose\" title=\"0 12\">Note: The definition of alcohol-specific deaths was revised in 2017.</td><td title=\"1 12\"></td><td title=\"2 12\"></td><td title=\"3 12\"></td><td title=\"4 12\"></td><td title=\"5 12\"></td><td title=\"6 12\"></td><td title=\"7 12\"></td><td title=\"8 12\"></td><td title=\"9 12\"></td><td title=\"10 12\"></td><td title=\"11 12\"></td><td title=\"12 12\"></td><td title=\"13 12\"></td><td title=\"14 12\"></td></tr>\n",
       "<tr><td style=\"background-color:MistyRose\" title=\"0 13\">Please see the 'Notes' section for further details.</td><td title=\"1 13\"></td><td title=\"2 13\"></td><td title=\"3 13\"></td><td title=\"4 13\"></td><td title=\"5 13\"></td><td title=\"6 13\"></td><td title=\"7 13\"></td><td title=\"8 13\"></td><td title=\"9 13\"></td><td title=\"10 13\"></td><td title=\"11 13\"></td><td title=\"12 13\"></td><td title=\"13 13\"></td><td title=\"14 13\"></td></tr>\n",
       "<tr><td title=\"0 14\"></td><td title=\"1 14\"></td><td title=\"2 14\"></td><td title=\"3 14\"></td><td title=\"4 14\"></td><td title=\"5 14\"></td><td title=\"6 14\"></td><td title=\"7 14\"></td><td title=\"8 14\"></td><td title=\"9 14\"></td><td title=\"10 14\"></td><td title=\"11 14\"></td><td title=\"12 14\"></td><td title=\"13 14\"></td><td title=\"14 14\"></td></tr>\n",
       "</table>\n",
       "\n",
       "</div>\n",
       "\n",
       "<script>\n",
       "var jslookup = {\"1 5\":[1,3,0,5],\"7 8\":[7,3,0,8],\"12 5\":[12,2,0,5],\"8 6\":[8,3,0,6],\"8 8\":[8,3,0,8],\"4 6\":[4,3,0,6],\"7 6\":[7,3,0,6],\"5 7\":[5,3,0,7],\"2 8\":[2,3,0,8],\"3 6\":[3,3,0,6],\"12 4\":[12,2,0,4],\"4 5\":[4,3,0,5],\"10 5\":[10,3,0,5],\"5 8\":[5,3,0,8],\"6 4\":[6,3,0,4],\"8 10\":[8,3,0,10],\"7 4\":[7,3,0,4],\"3 8\":[3,3,0,8],\"1 10\":[1,3,0,10],\"2 10\":[2,3,0,10],\"7 5\":[7,3,0,5],\"4 10\":[4,3,0,10],\"10 7\":[10,3,0,7],\"10 4\":[10,3,0,4],\"6 7\":[6,3,0,7],\"9 7\":[9,3,0,7],\"11 10\":[11,3,0,10],\"1 8\":[1,3,0,8],\"4 8\":[4,3,0,8],\"12 6\":[12,2,0,6],\"10 6\":[10,3,0,6],\"9 5\":[9,3,0,5],\"4 7\":[4,3,0,7],\"3 5\":[3,3,0,5],\"1 7\":[1,3,0,7],\"6 6\":[6,3,0,6],\"7 7\":[7,3,0,7],\"2 6\":[2,3,0,6],\"11 6\":[11,3,0,6],\"8 7\":[8,3,0,7],\"5 10\":[5,3,0,10],\"11 5\":[11,3,0,5],\"6 5\":[6,3,0,5],\"9 10\":[9,3,0,10],\"9 4\":[9,3,0,4],\"11 4\":[11,3,0,4],\"6 10\":[6,3,0,10],\"5 6\":[5,3,0,6],\"4 4\":[4,3,0,4],\"1 4\":[1,3,0,4],\"10 10\":[10,3,0,10],\"11 7\":[11,3,0,7],\"3 10\":[3,3,0,10],\"8 4\":[8,3,0,4],\"2 5\":[2,3,0,5],\"2 4\":[2,3,0,4],\"9 6\":[9,3,0,6],\"9 8\":[9,3,0,8],\"6 8\":[6,3,0,8],\"7 10\":[7,3,0,10],\"11 8\":[11,3,0,8],\"5 5\":[5,3,0,5],\"3 7\":[3,3,0,7],\"1 6\":[1,3,0,6],\"10 8\":[10,3,0,8],\"5 4\":[5,3,0,4],\"12 8\":[12,2,0,8],\"3 4\":[3,3,0,4],\"8 5\":[8,3,0,5],\"2 7\":[2,3,0,7],\"12 7\":[12,2,0,7],\"12 10\":[12,2,0,10]}; \n",
       "var jdividNUM = \"injblock1003\"; \n",
       "var Dclickedcell = null; \n",
       "function clickedcell() \n",
       "{ \n",
       "    Dclickedcell = this; \n",
       "    console.log(\"jjjj\", this); \n",
       "    var rgc = new RegExp('(^|\\b)' + \"selected\".split(' ').join('|') + '(\\b|$)', 'gi'); \n",
       "    Array.prototype.forEach.call(document.querySelectorAll(\"div#\"+jdividNUM+\" table.ex td.selected\"), function(el, i) { \n",
       "        if (el.classList)  el.classList.remove(\"selected\");\n",
       "        else  el.className = el.className.replace(rgc, ' ');\n",
       "    }); \n",
       "    if (this.classList)  this.classList.add(\"selected\");\n",
       "    else this.className += ' ' + \"selected\";\n",
       "\n",
       "    var dimpairs = jslookup[this.title]; \n",
       "    if (dimpairs !== undefined) {\n",
       "        for (var i = 1; i < dimpairs.length; i += 2) {\n",
       "            var row = document.querySelectorAll(\"div#\"+jdividNUM+\" table.ex tr\")[dimpairs[i]]; \n",
       "            var el = row.querySelectorAll(\"td\")[dimpairs[i-1]]; \n",
       "            if (el.classList)  el.classList.add(\"selected\");\n",
       "            else el.className += ' ' + \"selected\";\n",
       "        }\n",
       "    }\n",
       "}\n",
       "Array.prototype.forEach.call(document.querySelectorAll(\"div#\"+jdividNUM+\" table.ex td\"), function(item, i) { item.onclick=clickedcell; }); \n",
       "</script>\n"
      ],
      "text/plain": [
       "<IPython.core.display.HTML object>"
      ]
     },
     "metadata": {},
     "output_type": "display_data"
    },
    {
     "name": "stdout",
     "output_type": "stream",
     "text": [
      "\n"
     ]
    }
   ],
   "source": [
    "cell2 = tab2.filter('Underlying Cause (ICD-10 codes)')\n",
    "Year1 = cell2.fill(RIGHT).is_not_blank().is_not_blank().is_not_whitespace() |\\\n",
    "        cell2.shift(0,1).fill(RIGHT).is_not_blank().is_not_whitespace()\n",
    "cd = cell2.fill(DOWN).is_not_blank().is_not_whitespace()\n",
    "observations3 = Year1.fill(DOWN).is_not_blank().is_not_whitespace()\n",
    "Dimensions3 = [\n",
    "            HDim(Year1,'Year',DIRECTLY,ABOVE),\n",
    "            HDim(cd, 'Underlying Cause of Death',DIRECTLY,LEFT),\n",
    "            HDimConst('Measure Type', 'Count'),\n",
    "            HDimConst('Unit','People'),\n",
    "            HDimConst('Age', 'all'),\n",
    "            HDimConst('Sex', 'T'),\n",
    "            HDimConst('Health and Social Care Trust', 'all')\n",
    "            ]\n",
    "c3 = ConversionSegment(observations3, Dimensions3, processTIMEUNIT=True)\n",
    "if is_interactive():\n",
    "    savepreviewhtml(c3)\n",
    "table2 = c3.topandas()"
   ]
  },
  {
   "cell_type": "code",
   "execution_count": 22,
   "metadata": {
    "collapsed": true
   },
   "outputs": [],
   "source": [
    "table2['OBS'].replace('', np.nan, inplace=True)\n",
    "table2.dropna(subset=['OBS'], inplace=True)\n",
    "table2.rename(columns={'OBS': 'Value'}, inplace=True)\n",
    "table2['Value'] = table2['Value'].astype(int)\n",
    "table2['Period'] = 'year/' + table2['Year'].astype(str).str[0:4]"
   ]
  },
  {
   "cell_type": "code",
   "execution_count": 23,
   "metadata": {
    "collapsed": true
   },
   "outputs": [],
   "source": [
    "table2 = table2[table2['Underlying Cause of Death'] != 'Total deaths from all causes']\n",
    "table2 = table2[table2['Underlying Cause of Death'] != 'All alcohol related deaths']"
   ]
  },
  {
   "cell_type": "code",
   "execution_count": 24,
   "metadata": {
    "collapsed": true
   },
   "outputs": [],
   "source": [
    "table2['Period'] = table2['Period'].map(\n",
    "    lambda x: {\n",
    "        'year/Tota' : 'gregorian-interval/2007-01-01T00:00:00/P10Y'       \n",
    "        }.get(x, x))\n",
    "table2['Underlying Cause of Death'] = table2['Underlying Cause of Death'].map(\n",
    "    lambda x: {\n",
    "        'Mental and behavioural disorders due to use of alcohol (F10)' : 'f10',\n",
    "       'Accidental poisoning by and exposure to alcohol (X45)' : 'x45',\n",
    "       'Intentional self-poisoning by and exposure to alcohol or poisoning by and exposure to alcohol, undetermined intent (X65, Y15)':'x65-y15',\n",
    "       'All other alcohol related deaths (E24.4, G31.2, G62.1, G72.1, I42.6, K29.2, K70, K85.2, Q86.0, R78.0, K86.0)' : 'all-other-alcohol-related-deaths',\n",
    "       'All alcohol related deaths': 'all-alcohol-related-deaths'        \n",
    "        }.get(x, x))"
   ]
  },
  {
   "cell_type": "code",
   "execution_count": 25,
   "metadata": {
    "collapsed": true
   },
   "outputs": [],
   "source": [
    "table2 = table2[['Period','Age','Sex','Underlying Cause of Death','Health and Social Care Trust','Measure Type','Value','Unit']]"
   ]
  },
  {
   "cell_type": "code",
   "execution_count": 26,
   "metadata": {
    "collapsed": true
   },
   "outputs": [],
   "source": [
    "tidy = pd.concat([tidy,table2])"
   ]
  },
  {
   "cell_type": "code",
   "execution_count": 27,
   "metadata": {},
   "outputs": [
    {
     "name": "stdout",
     "output_type": "stream",
     "text": [
      "Loading in\\Alcohol_Tables_17.xls which has size 900608 bytes\n",
      "Table names: ['Table 4']\n"
     ]
    }
   ],
   "source": [
    "tab3 = loadxlstabs(inputFile, sheetids='Table 4')[0]"
   ]
  },
  {
   "cell_type": "code",
   "execution_count": 28,
   "metadata": {},
   "outputs": [
    {
     "data": {
      "text/html": [
       "<div id=\"injblock1004\">\n",
       "<style>\n",
       "table.ex, table.exkey { border: thin black solid }\n",
       "table.ex td, table.ex tr { border: none }\n",
       "table.ex td:hover { border: thin blue solid }\n",
       "table.ex td.excOBS:hover { border: thin red solid }\n",
       "table.ex td.selected { border: thick red solid }\n",
       "</style>\n",
       "\n",
       "\n",
       "<table class=\"exkey\">\n",
       "<tr><td class=\"xc0\" style=\"background-color:Aqua\">OBS</td><td class=\"xc1\" style=\"background-color:LightGreen\">Year</td><td class=\"xc2\" style=\"background-color:MistyRose\">Health and Social Care Trust</td></tr></table>\n",
       "\n",
       "<table class=\"ex\">\n",
       "<caption style=\"text-align:center; padding:0px; caption-side:bottom\">Table 4</caption>\n",
       "<tr><td style=\"font-weight:bold\" title=\"0 0\">Table 4: Number of alcohol related deaths by Health and Social Care Trust and registration year, 2007-2017 </td><td title=\"1 0\"></td><td title=\"2 0\"></td><td title=\"3 0\"></td><td title=\"4 0\"></td><td title=\"5 0\"></td><td title=\"6 0\"></td></tr>\n",
       "<tr><td title=\"0 1\"></td><td title=\"1 1\"></td><td title=\"2 1\"></td><td title=\"3 1\"></td><td title=\"4 1\"></td><td title=\"5 1\"></td><td title=\"6 1\"></td></tr>\n",
       "<tr><td style=\"font-weight:bold\" title=\"0 2\">Registration Year</td><td style=\"background-color:MistyRose;font-weight:bold\" title=\"1 2\">Health and Social Care Trust</td><td style=\"font-weight:bold\" title=\"2 2\"></td><td style=\"font-weight:bold\" title=\"3 2\"></td><td style=\"font-weight:bold\" title=\"4 2\"></td><td style=\"font-weight:bold\" title=\"5 2\"></td><td style=\"background-color:MistyRose;font-weight:bold\" title=\"6 2\">Total</td></tr>\n",
       "<tr><td style=\"font-weight:bold\" title=\"0 3\"></td><td style=\"background-color:MistyRose;font-weight:bold\" title=\"1 3\">Belfast</td><td style=\"background-color:MistyRose;font-weight:bold\" title=\"2 3\">Northern</td><td style=\"background-color:MistyRose;font-weight:bold\" title=\"3 3\">South Eastern</td><td style=\"background-color:MistyRose;font-weight:bold\" title=\"4 3\"> Southern</td><td style=\"background-color:MistyRose;font-weight:bold\" title=\"5 3\">Western</td><td style=\"font-weight:bold\" title=\"6 3\"></td></tr>\n",
       "<tr><td style=\"background-color:LightGreen\" title=\"0 4\">2007.0</td><td style=\"background-color:Aqua\" title=\"1 4\">74.0</td><td style=\"background-color:Aqua\" title=\"2 4\">49.0</td><td style=\"background-color:Aqua\" title=\"3 4\">36.0</td><td style=\"background-color:Aqua\" title=\"4 4\">38.0</td><td style=\"background-color:Aqua\" title=\"5 4\">41.0</td><td style=\"background-color:Aqua;font-weight:bold\" title=\"6 4\">238.0</td></tr>\n",
       "<tr><td style=\"background-color:LightGreen\" title=\"0 5\">2008.0</td><td style=\"background-color:Aqua\" title=\"1 5\">75.0</td><td style=\"background-color:Aqua\" title=\"2 5\">63.0</td><td style=\"background-color:Aqua\" title=\"3 5\">46.0</td><td style=\"background-color:Aqua\" title=\"4 5\">29.0</td><td style=\"background-color:Aqua\" title=\"5 5\">30.0</td><td style=\"background-color:Aqua;font-weight:bold\" title=\"6 5\">243.0</td></tr>\n",
       "<tr><td style=\"background-color:LightGreen\" title=\"0 6\">2009.0</td><td style=\"background-color:Aqua\" title=\"1 6\">67.0</td><td style=\"background-color:Aqua\" title=\"2 6\">52.0</td><td style=\"background-color:Aqua\" title=\"3 6\">45.0</td><td style=\"background-color:Aqua\" title=\"4 6\">37.0</td><td style=\"background-color:Aqua\" title=\"5 6\">48.0</td><td style=\"background-color:Aqua;font-weight:bold\" title=\"6 6\">249.0</td></tr>\n",
       "<tr><td style=\"background-color:LightGreen\" title=\"0 7\">2010.0</td><td style=\"background-color:Aqua\" title=\"1 7\">71.0</td><td style=\"background-color:Aqua\" title=\"2 7\">45.0</td><td style=\"background-color:Aqua\" title=\"3 7\">38.0</td><td style=\"background-color:Aqua\" title=\"4 7\">44.0</td><td style=\"background-color:Aqua\" title=\"5 7\">62.0</td><td style=\"background-color:Aqua;font-weight:bold\" title=\"6 7\">260.0</td></tr>\n",
       "<tr><td style=\"background-color:LightGreen\" title=\"0 8\">2011.0</td><td style=\"background-color:Aqua\" title=\"1 8\">67.0</td><td style=\"background-color:Aqua\" title=\"2 8\">45.0</td><td style=\"background-color:Aqua\" title=\"3 8\">47.0</td><td style=\"background-color:Aqua\" title=\"4 8\">33.0</td><td style=\"background-color:Aqua\" title=\"5 8\">36.0</td><td style=\"background-color:Aqua;font-weight:bold\" title=\"6 8\">228.0</td></tr>\n",
       "<tr><td style=\"background-color:LightGreen\" title=\"0 9\">2012.0</td><td style=\"background-color:Aqua\" title=\"1 9\">73.0</td><td style=\"background-color:Aqua\" title=\"2 9\">38.0</td><td style=\"background-color:Aqua\" title=\"3 9\">43.0</td><td style=\"background-color:Aqua\" title=\"4 9\">41.0</td><td style=\"background-color:Aqua\" title=\"5 9\">49.0</td><td style=\"background-color:Aqua;font-weight:bold\" title=\"6 9\">244.0</td></tr>\n",
       "<tr><td style=\"background-color:LightGreen\" title=\"0 10\">2013.0</td><td style=\"background-color:Aqua\" title=\"1 10\">55.0</td><td style=\"background-color:Aqua\" title=\"2 10\">46.0</td><td style=\"background-color:Aqua\" title=\"3 10\">32.0</td><td style=\"background-color:Aqua\" title=\"4 10\">31.0</td><td style=\"background-color:Aqua\" title=\"5 10\">42.0</td><td style=\"background-color:Aqua;font-weight:bold\" title=\"6 10\">206.0</td></tr>\n",
       "<tr><td style=\"background-color:LightGreen\" title=\"0 11\">2014.0</td><td style=\"background-color:Aqua\" title=\"1 11\">61.0</td><td style=\"background-color:Aqua\" title=\"2 11\">48.0</td><td style=\"background-color:Aqua\" title=\"3 11\">38.0</td><td style=\"background-color:Aqua\" title=\"4 11\">36.0</td><td style=\"background-color:Aqua\" title=\"5 11\">36.0</td><td style=\"background-color:Aqua;font-weight:bold\" title=\"6 11\">219.0</td></tr>\n",
       "<tr><td style=\"background-color:LightGreen\" title=\"0 12\">2015.0</td><td style=\"background-color:Aqua\" title=\"1 12\">69.0</td><td style=\"background-color:Aqua\" title=\"2 12\">66.0</td><td style=\"background-color:Aqua\" title=\"3 12\">47.0</td><td style=\"background-color:Aqua\" title=\"4 12\">44.0</td><td style=\"background-color:Aqua\" title=\"5 12\">56.0</td><td style=\"background-color:Aqua;font-weight:bold\" title=\"6 12\">282.0</td></tr>\n",
       "<tr><td style=\"background-color:LightGreen\" title=\"0 13\">2016.0</td><td style=\"background-color:Aqua\" title=\"1 13\">88.0</td><td style=\"background-color:Aqua\" title=\"2 13\">62.0</td><td style=\"background-color:Aqua\" title=\"3 13\">50.0</td><td style=\"background-color:Aqua\" title=\"4 13\">34.0</td><td style=\"background-color:Aqua\" title=\"5 13\">55.0</td><td style=\"background-color:Aqua;font-weight:bold\" title=\"6 13\">289.0</td></tr>\n",
       "<tr><td style=\"background-color:LightGreen\" title=\"0 14\">2017.0</td><td style=\"background-color:Aqua\" title=\"1 14\">75.0</td><td style=\"background-color:Aqua\" title=\"2 14\">75.0</td><td style=\"background-color:Aqua\" title=\"3 14\">42.0</td><td style=\"background-color:Aqua\" title=\"4 14\">52.0</td><td style=\"background-color:Aqua\" title=\"5 14\">59.0</td><td style=\"background-color:Aqua;font-weight:bold\" title=\"6 14\">303.0</td></tr>\n",
       "<tr><td style=\"background-color:LightGreen;font-weight:bold\" title=\"0 15\">Total (2007-2017)</td><td style=\"background-color:Aqua;font-weight:bold\" title=\"1 15\">775.0</td><td style=\"background-color:Aqua;font-weight:bold\" title=\"2 15\">589.0</td><td style=\"background-color:Aqua;font-weight:bold\" title=\"3 15\">464.0</td><td style=\"background-color:Aqua;font-weight:bold\" title=\"4 15\">419.0</td><td style=\"background-color:Aqua;font-weight:bold\" title=\"5 15\">514.0</td><td style=\"background-color:Aqua;font-weight:bold\" title=\"6 15\">2761.0</td></tr>\n",
       "<tr><td title=\"0 16\"></td><td title=\"1 16\"></td><td title=\"2 16\"></td><td title=\"3 16\"></td><td title=\"4 16\"></td><td title=\"5 16\"></td><td title=\"6 16\"></td></tr>\n",
       "<tr><td style=\"background-color:LightGreen\" title=\"0 17\">Note: The definition of alcohol-specific deaths was revised in 2017.</td><td title=\"1 17\"></td><td title=\"2 17\"></td><td title=\"3 17\"></td><td title=\"4 17\"></td><td title=\"5 17\"></td><td title=\"6 17\"></td></tr>\n",
       "<tr><td style=\"background-color:LightGreen\" title=\"0 18\">Please see the 'Notes' section for further details.</td><td title=\"1 18\"></td><td title=\"2 18\"></td><td title=\"3 18\"></td><td title=\"4 18\"></td><td title=\"5 18\"></td><td title=\"6 18\"></td></tr>\n",
       "</table>\n",
       "\n",
       "</div>\n",
       "\n",
       "<script>\n",
       "var jslookup = {\"1 11\":[0,11,1,3],\"5 15\":[0,15,5,3],\"3 6\":[0,6,3,3],\"1 5\":[0,5,1,3],\"2 13\":[0,13,2,3],\"5 12\":[0,12,5,3],\"6 5\":[0,5,6,2],\"4 5\":[0,5,4,3],\"4 12\":[0,12,4,3],\"2 7\":[0,7,2,3],\"4 4\":[0,4,4,3],\"1 12\":[0,12,1,3],\"3 4\":[0,4,3,3],\"3 9\":[0,9,3,3],\"1 4\":[0,4,1,3],\"5 10\":[0,10,5,3],\"4 7\":[0,7,4,3],\"2 5\":[0,5,2,3],\"2 15\":[0,15,2,3],\"5 4\":[0,4,5,3],\"5 9\":[0,9,5,3],\"2 10\":[0,10,2,3],\"3 12\":[0,12,3,3],\"3 13\":[0,13,3,3],\"6 6\":[0,6,6,2],\"1 14\":[0,14,1,3],\"5 6\":[0,6,5,3],\"4 14\":[0,14,4,3],\"1 7\":[0,7,1,3],\"3 10\":[0,10,3,3],\"4 15\":[0,15,4,3],\"6 15\":[0,15,6,2],\"2 6\":[0,6,2,3],\"2 12\":[0,12,2,3],\"5 5\":[0,5,5,3],\"1 8\":[0,8,1,3],\"6 9\":[0,9,6,2],\"4 9\":[0,9,4,3],\"2 9\":[0,9,2,3],\"6 11\":[0,11,6,2],\"2 11\":[0,11,2,3],\"1 6\":[0,6,1,3],\"5 14\":[0,14,5,3],\"4 6\":[0,6,4,3],\"2 14\":[0,14,2,3],\"1 9\":[0,9,1,3],\"4 11\":[0,11,4,3],\"3 8\":[0,8,3,3],\"6 7\":[0,7,6,2],\"4 8\":[0,8,4,3],\"6 8\":[0,8,6,2],\"4 10\":[0,10,4,3],\"6 4\":[0,4,6,2],\"3 14\":[0,14,3,3],\"1 15\":[0,15,1,3],\"1 10\":[0,10,1,3],\"1 13\":[0,13,1,3],\"3 11\":[0,11,3,3],\"5 13\":[0,13,5,3],\"3 7\":[0,7,3,3],\"3 5\":[0,5,3,3],\"2 4\":[0,4,2,3],\"5 7\":[0,7,5,3],\"2 8\":[0,8,2,3],\"6 10\":[0,10,6,2],\"3 15\":[0,15,3,3],\"4 13\":[0,13,4,3],\"5 11\":[0,11,5,3],\"6 14\":[0,14,6,2],\"6 13\":[0,13,6,2],\"5 8\":[0,8,5,3],\"6 12\":[0,12,6,2]}; \n",
       "var jdividNUM = \"injblock1004\"; \n",
       "var Dclickedcell = null; \n",
       "function clickedcell() \n",
       "{ \n",
       "    Dclickedcell = this; \n",
       "    console.log(\"jjjj\", this); \n",
       "    var rgc = new RegExp('(^|\\b)' + \"selected\".split(' ').join('|') + '(\\b|$)', 'gi'); \n",
       "    Array.prototype.forEach.call(document.querySelectorAll(\"div#\"+jdividNUM+\" table.ex td.selected\"), function(el, i) { \n",
       "        if (el.classList)  el.classList.remove(\"selected\");\n",
       "        else  el.className = el.className.replace(rgc, ' ');\n",
       "    }); \n",
       "    if (this.classList)  this.classList.add(\"selected\");\n",
       "    else this.className += ' ' + \"selected\";\n",
       "\n",
       "    var dimpairs = jslookup[this.title]; \n",
       "    if (dimpairs !== undefined) {\n",
       "        for (var i = 1; i < dimpairs.length; i += 2) {\n",
       "            var row = document.querySelectorAll(\"div#\"+jdividNUM+\" table.ex tr\")[dimpairs[i]]; \n",
       "            var el = row.querySelectorAll(\"td\")[dimpairs[i-1]]; \n",
       "            if (el.classList)  el.classList.add(\"selected\");\n",
       "            else el.className += ' ' + \"selected\";\n",
       "        }\n",
       "    }\n",
       "}\n",
       "Array.prototype.forEach.call(document.querySelectorAll(\"div#\"+jdividNUM+\" table.ex td\"), function(item, i) { item.onclick=clickedcell; }); \n",
       "</script>\n"
      ],
      "text/plain": [
       "<IPython.core.display.HTML object>"
      ]
     },
     "metadata": {},
     "output_type": "display_data"
    },
    {
     "name": "stdout",
     "output_type": "stream",
     "text": [
      "\n"
     ]
    }
   ],
   "source": [
    "cell3 = tab3.filter('Registration Year')\n",
    "hs = cell3.fill(RIGHT).is_not_blank().is_not_blank().is_not_whitespace() |\\\n",
    "        cell3.shift(0,1).fill(RIGHT).is_not_blank().is_not_whitespace()\n",
    "Year = cell3.fill(DOWN).is_not_blank().is_not_whitespace()\n",
    "observations4 = Year.fill(RIGHT).is_not_blank().is_not_whitespace()\n",
    "Dimensions4 = [\n",
    "            HDim(Year,'Year',DIRECTLY,LEFT),\n",
    "            HDim(hs, 'Health and Social Care Trust',DIRECTLY,ABOVE),\n",
    "            HDimConst('Measure Type', 'Count'),\n",
    "            HDimConst('Unit','People'),\n",
    "            HDimConst('Age', 'all'),\n",
    "            HDimConst('Underlying Cause of Death', 'all-alcohol-related-deaths'),\n",
    "            HDimConst('Sex', 'T')\n",
    "            ]\n",
    "c4 = ConversionSegment(observations4, Dimensions4, processTIMEUNIT=True)\n",
    "if is_interactive():\n",
    "    savepreviewhtml(c4)\n",
    "table3 = c4.topandas()"
   ]
  },
  {
   "cell_type": "code",
   "execution_count": 29,
   "metadata": {
    "collapsed": true
   },
   "outputs": [],
   "source": [
    "table3['OBS'].replace('', np.nan, inplace=True)\n",
    "table3.dropna(subset=['OBS'], inplace=True)\n",
    "table3.rename(columns={'OBS': 'Value'}, inplace=True)\n",
    "table3['Value'] = table3['Value'].astype(int)\n",
    "table3['Period'] = 'year/' + table3['Year'].astype(str).str[0:4]"
   ]
  },
  {
   "cell_type": "code",
   "execution_count": 30,
   "metadata": {
    "collapsed": true
   },
   "outputs": [],
   "source": [
    "table3['Period'] = table3['Period'].map(\n",
    "    lambda x: {\n",
    "        'year/Tota' : 'gregorian-interval/2007-01-01T00:00:00/P10Y'       \n",
    "        }.get(x, x))"
   ]
  },
  {
   "cell_type": "code",
   "execution_count": 31,
   "metadata": {
    "collapsed": true
   },
   "outputs": [],
   "source": [
    "table3 = table3[table3['Health and Social Care Trust'] != 'Total']"
   ]
  },
  {
   "cell_type": "code",
   "execution_count": 32,
   "metadata": {
    "collapsed": true
   },
   "outputs": [],
   "source": [
    "table3['Health and Social Care Trust'] = table3['Health and Social Care Trust'].map(\n",
    "    lambda x: {\n",
    "        'Belfast': 'belfast', 'Northern': 'northern',\n",
    "        'South Eastern' : 'south-eastern', \n",
    "        ' Southern' : 'southern', 'Western' : 'western'\n",
    "        }.get(x, x))"
   ]
  },
  {
   "cell_type": "code",
   "execution_count": 33,
   "metadata": {
    "collapsed": true
   },
   "outputs": [],
   "source": [
    "table3 = table3[['Period','Age','Sex','Underlying Cause of Death','Health and Social Care Trust','Measure Type','Value','Unit']]"
   ]
  },
  {
   "cell_type": "code",
   "execution_count": 34,
   "metadata": {
    "collapsed": true
   },
   "outputs": [],
   "source": [
    "if is_interactive():\n",
    "    destinationFolder = Path('out')\n",
    "    destinationFolder.mkdir(exist_ok=True, parents=True)\n",
    "    tidy.to_csv(destinationFolder / ('observations.csv'), index = False)"
   ]
  },
  {
   "cell_type": "code",
   "execution_count": 35,
   "metadata": {
    "collapsed": true
   },
   "outputs": [],
   "source": [
    "from pathlib import Path\n",
    "\n",
    "out = Path('out')\n",
    "out.mkdir(exist_ok=True, parents=True)\n",
    "scraper.dataset.family = 'health'\n",
    "\n",
    "with open(out / 'dataset.trig', 'wb') as metadata:\n",
    "    metadata.write(scraper.generate_trig())"
   ]
  },
  {
   "cell_type": "code",
   "execution_count": null,
   "metadata": {
    "collapsed": true
   },
   "outputs": [],
   "source": []
  }
 ],
 "metadata": {
  "kernelspec": {
   "display_name": "Python 3",
   "language": "python",
   "name": "python3"
  },
  "language_info": {
   "codemirror_mode": {
    "name": "ipython",
    "version": 3
   },
   "file_extension": ".py",
   "mimetype": "text/x-python",
   "name": "python",
   "nbconvert_exporter": "python",
   "pygments_lexer": "ipython3",
   "version": "3.6.3"
  }
 },
 "nbformat": 4,
 "nbformat_minor": 2
}
