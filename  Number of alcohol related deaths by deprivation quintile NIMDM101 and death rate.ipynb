{
 "cells": [
  {
   "cell_type": "markdown",
   "metadata": {},
   "source": [
    "Table 5a(i):  Number of alcohol related deaths by deprivation quintile NIMDM101 and death rate per 100,000 population, 2012-2016 "
   ]
  },
  {
   "cell_type": "code",
   "execution_count": 1,
   "metadata": {
    "collapsed": true
   },
   "outputs": [],
   "source": [
    "from databaker.framework import *\n",
    "import pandas as pd "
   ]
  },
  {
   "cell_type": "code",
   "execution_count": 2,
   "metadata": {
    "collapsed": true
   },
   "outputs": [],
   "source": [
    "import requests\n",
    "from cachecontrol import CacheControl\n",
    "from cachecontrol.caches.file_cache import FileCache\n",
    "from cachecontrol.heuristics import LastModified\n",
    "from pathlib import Path\n",
    "\n",
    "session = CacheControl(requests.Session(),\n",
    "                       cache=FileCache('.cache'),\n",
    "                       heuristic=LastModified())\n",
    "\n",
    "sourceFolder = Path('in')\n",
    "sourceFolder.mkdir(exist_ok=True)\n",
    "\n",
    "inputURL = 'https://www.nisra.gov.uk/sites/nisra.gov.uk/files/publications/Alcohol_Tables_16_0.xls'\n",
    "inputFile = sourceFolder / 'Alcohol_Tables_16_0.xls'\n",
    "response = session.get(inputURL)\n",
    "with open(inputFile, 'wb') as f:\n",
    "  f.write(response.content)"
   ]
  },
  {
   "cell_type": "code",
   "execution_count": 3,
   "metadata": {},
   "outputs": [
    {
     "name": "stdout",
     "output_type": "stream",
     "text": [
      "Loading in\\Alcohol_Tables_16_0.xls which has size 969216 bytes\n",
      "Table names: ['Table 5a(i)']\n"
     ]
    }
   ],
   "source": [
    "tab = loadxlstabs(inputFile, sheetids='Table 5a(i)')[0]"
   ]
  },
  {
   "cell_type": "code",
   "execution_count": 4,
   "metadata": {
    "collapsed": true
   },
   "outputs": [],
   "source": [
    "observations = tab.excel_ref('B6').expand(DOWN).expand(RIGHT).is_not_blank()"
   ]
  },
  {
   "cell_type": "code",
   "execution_count": 5,
   "metadata": {},
   "outputs": [
    {
     "data": {
      "text/plain": [
       "{<F8 13620.0>, <B8 15960.0>, <D8 15584.0>, <B6 462.0>, <B10 26.629776932388033>, <E8 14014.0>, <D6 208.0>, <E10 8.006590688335029>, <C10 16.20451807550026>, <F10 6.559429582797263>, <C8 16202.0>, <D10 10.610620823343366>, <C6 304.0>, <F6 114.0>, <E6 152.0>}"
      ]
     },
     "execution_count": 5,
     "metadata": {},
     "output_type": "execute_result"
    }
   ],
   "source": [
    "observations"
   ]
  },
  {
   "cell_type": "code",
   "execution_count": 6,
   "metadata": {},
   "outputs": [
    {
     "data": {
      "text/plain": [
       "{<A8 'All deaths'>, <A10 'Rate per 100,000 population'>, <A6 'Alcohol related deaths'>}"
      ]
     },
     "execution_count": 6,
     "metadata": {},
     "output_type": "execute_result"
    }
   ],
   "source": [
    "cod = tab.excel_ref('A6').expand(DOWN).is_not_blank() - tab.excel_ref('A11').expand(DOWN)\n",
    "cod"
   ]
  },
  {
   "cell_type": "code",
   "execution_count": 7,
   "metadata": {},
   "outputs": [
    {
     "data": {
      "text/plain": [
       "{<F4 'Least Deprived\\n5'>, <C4 2.0>, <D4 3.0>, <E4 4.0>, <B4 'Most Deprived\\n1'>}"
      ]
     },
     "execution_count": 7,
     "metadata": {},
     "output_type": "execute_result"
    }
   ],
   "source": [
    "dq = tab.excel_ref('B4').expand(RIGHT).is_not_blank()\n",
    "dq"
   ]
  },
  {
   "cell_type": "code",
   "execution_count": 8,
   "metadata": {
    "collapsed": true
   },
   "outputs": [],
   "source": [
    "Dimensions = [\n",
    "            HDim(cod,'Cause of Death',DIRECTLY,LEFT),\n",
    "            HDim(dq, 'Deprivation Quintile Rate',DIRECTLY,ABOVE),\n",
    "            HDimConst('Measure Type', 'Count'),\n",
    "            HDimConst('Unit','People')\n",
    "            ]"
   ]
  },
  {
   "cell_type": "code",
   "execution_count": 9,
   "metadata": {},
   "outputs": [
    {
     "data": {
      "text/html": [
       "<div id=\"injblock1001\">\n",
       "<style>\n",
       "table.ex, table.exkey { border: thin black solid }\n",
       "table.ex td, table.ex tr { border: none }\n",
       "table.ex td:hover { border: thin blue solid }\n",
       "table.ex td.excOBS:hover { border: thin red solid }\n",
       "table.ex td.selected { border: thick red solid }\n",
       "</style>\n",
       "\n",
       "\n",
       "<table class=\"exkey\">\n",
       "<tr><td class=\"xc0\" style=\"background-color:Aqua\">OBS</td><td class=\"xc1\" style=\"background-color:LightGreen\">Cause of Death</td><td class=\"xc2\" style=\"background-color:MistyRose\">Deprivation Quintile Rate</td></tr></table>\n",
       "\n",
       "<table class=\"ex\">\n",
       "<caption style=\"text-align:center; padding:0px; caption-side:bottom\">Table 5a(i)</caption>\n",
       "<tr><td style=\"font-weight:bold\" title=\"0 0\">Table 5a(i):  Number of alcohol related deaths by deprivation quintile NIMDM101 and death rate per 100,000 population, 2012-2016 - (new definition)</td><td title=\"1 0\"></td><td title=\"2 0\"></td><td title=\"3 0\"></td><td title=\"4 0\"></td><td title=\"5 0\"></td><td title=\"6 0\"></td><td title=\"7 0\"></td><td title=\"8 0\"></td><td title=\"9 0\"></td><td title=\"10 0\"></td></tr>\n",
       "<tr><td style=\"font-weight:bold\" title=\"0 1\"></td><td title=\"1 1\"></td><td title=\"2 1\"></td><td title=\"3 1\"></td><td title=\"4 1\"></td><td title=\"5 1\"></td><td title=\"6 1\"></td><td title=\"7 1\"></td><td title=\"8 1\"></td><td title=\"9 1\"></td><td title=\"10 1\"></td></tr>\n",
       "<tr><td style=\"font-weight:bold\" title=\"0 2\">Cause of Death</td><td style=\"font-weight:bold\" title=\"1 2\">Deprivation Quintile1</td><td style=\"font-weight:bold\" title=\"2 2\"></td><td style=\"font-weight:bold\" title=\"3 2\"></td><td style=\"font-weight:bold\" title=\"4 2\"></td><td style=\"font-weight:bold\" title=\"5 2\"></td><td title=\"6 2\"></td><td title=\"7 2\"></td><td title=\"8 2\"></td><td title=\"9 2\"></td><td title=\"10 2\"></td></tr>\n",
       "<tr><td style=\"font-weight:bold\" title=\"0 3\"></td><td style=\"background-color:MistyRose;font-weight:bold\" title=\"1 3\">Most Deprived\n",
       "1</td><td style=\"background-color:MistyRose;font-weight:bold\" title=\"2 3\">2.0</td><td style=\"background-color:MistyRose;font-weight:bold\" title=\"3 3\">3.0</td><td style=\"background-color:MistyRose;font-weight:bold\" title=\"4 3\">4.0</td><td style=\"background-color:MistyRose;font-weight:bold\" title=\"5 3\">Least Deprived\n",
       "5</td><td title=\"6 3\"></td><td title=\"7 3\"></td><td title=\"8 3\"></td><td title=\"9 3\"></td><td title=\"10 3\"></td></tr>\n",
       "<tr><td style=\"font-weight:bold\" title=\"0 4\"></td><td style=\"font-weight:bold\" title=\"1 4\"></td><td style=\"font-weight:bold\" title=\"2 4\"></td><td style=\"font-weight:bold\" title=\"3 4\"></td><td style=\"font-weight:bold\" title=\"4 4\"></td><td style=\"font-weight:bold\" title=\"5 4\"></td><td title=\"6 4\"></td><td title=\"7 4\"></td><td title=\"8 4\"></td><td title=\"9 4\"></td><td title=\"10 4\"></td></tr>\n",
       "<tr><td style=\"background-color:LightGreen\" title=\"0 5\">Alcohol related deaths</td><td style=\"background-color:Aqua;font-weight:bold\" title=\"1 5\">462.0</td><td style=\"background-color:Aqua;font-weight:bold\" title=\"2 5\">304.0</td><td style=\"background-color:Aqua;font-weight:bold\" title=\"3 5\">208.0</td><td style=\"background-color:Aqua;font-weight:bold\" title=\"4 5\">152.0</td><td style=\"background-color:Aqua;font-weight:bold\" title=\"5 5\">114.0</td><td title=\"6 5\"></td><td title=\"7 5\"></td><td title=\"8 5\"></td><td title=\"9 5\"></td><td title=\"10 5\"></td></tr>\n",
       "<tr><td title=\"0 6\"></td><td title=\"1 6\"></td><td title=\"2 6\"></td><td title=\"3 6\"></td><td title=\"4 6\"></td><td title=\"5 6\"></td><td title=\"6 6\"></td><td title=\"7 6\"></td><td title=\"8 6\"></td><td title=\"9 6\"></td><td title=\"10 6\"></td></tr>\n",
       "<tr><td style=\"background-color:LightGreen\" title=\"0 7\">All deaths</td><td style=\"background-color:Aqua;font-weight:bold\" title=\"1 7\">15960.0</td><td style=\"background-color:Aqua;font-weight:bold\" title=\"2 7\">16202.0</td><td style=\"background-color:Aqua;font-weight:bold\" title=\"3 7\">15584.0</td><td style=\"background-color:Aqua;font-weight:bold\" title=\"4 7\">14014.0</td><td style=\"background-color:Aqua;font-weight:bold\" title=\"5 7\">13620.0</td><td title=\"6 7\"></td><td title=\"7 7\"></td><td title=\"8 7\"></td><td title=\"9 7\"></td><td title=\"10 7\"></td></tr>\n",
       "<tr><td title=\"0 8\"></td><td title=\"1 8\"></td><td title=\"2 8\"></td><td title=\"3 8\"></td><td title=\"4 8\"></td><td title=\"5 8\"></td><td title=\"6 8\"></td><td title=\"7 8\"></td><td title=\"8 8\"></td><td title=\"9 8\"></td><td title=\"10 8\"></td></tr>\n",
       "<tr><td style=\"background-color:LightGreen\" title=\"0 9\">Rate per 100,000 population</td><td style=\"background-color:Aqua\" title=\"1 9\">26.629776932388033</td><td style=\"background-color:Aqua\" title=\"2 9\">16.20451807550026</td><td style=\"background-color:Aqua\" title=\"3 9\">10.610620823343366</td><td style=\"background-color:Aqua\" title=\"4 9\">8.006590688335029</td><td style=\"background-color:Aqua\" title=\"5 9\">6.559429582797263</td><td title=\"6 9\"></td><td title=\"7 9\"></td><td title=\"8 9\"></td><td title=\"9 9\"></td><td title=\"10 9\"></td></tr>\n",
       "<tr><td title=\"0 10\"></td><td title=\"1 10\"></td><td title=\"2 10\"></td><td title=\"3 10\"></td><td title=\"4 10\"></td><td title=\"5 10\"></td><td title=\"6 10\"></td><td title=\"7 10\"></td><td title=\"8 10\"></td><td title=\"9 10\"></td><td title=\"10 10\"></td></tr>\n",
       "<tr><td title=\"0 11\">1  2010 measure of multiple deprivation has been used.  Further information can be found at:</td><td title=\"1 11\"></td><td title=\"2 11\"></td><td title=\"3 11\"></td><td title=\"4 11\"></td><td title=\"5 11\"></td><td title=\"6 11\"></td><td title=\"7 11\"></td><td title=\"8 11\"></td><td title=\"9 11\"></td><td title=\"10 11\"></td></tr>\n",
       "<tr><td title=\"0 12\">http://www.nisra.gov.uk/deprivation/nimdm_2010.htm</td><td title=\"1 12\"></td><td title=\"2 12\"></td><td title=\"3 12\"></td><td title=\"4 12\"></td><td title=\"5 12\"></td><td title=\"6 12\"></td><td title=\"7 12\"></td><td title=\"8 12\"></td><td title=\"9 12\"></td><td title=\"10 12\"></td></tr>\n",
       "<tr><td title=\"0 13\"></td><td title=\"1 13\"></td><td title=\"2 13\"></td><td title=\"3 13\"></td><td title=\"4 13\"></td><td title=\"5 13\"></td><td title=\"6 13\"></td><td title=\"7 13\"></td><td title=\"8 13\"></td><td title=\"9 13\"></td><td title=\"10 13\"></td></tr>\n",
       "<tr><td title=\"0 14\"></td><td title=\"1 14\"></td><td title=\"2 14\"></td><td title=\"3 14\"></td><td title=\"4 14\"></td><td title=\"5 14\"></td><td title=\"6 14\"></td><td title=\"7 14\"></td><td title=\"8 14\"></td><td title=\"9 14\"></td><td title=\"10 14\"></td></tr>\n",
       "<tr><td title=\"0 15\"></td><td title=\"1 15\"></td><td title=\"2 15\"></td><td title=\"3 15\"></td><td title=\"4 15\"></td><td title=\"5 15\"></td><td title=\"6 15\"></td><td title=\"7 15\"></td><td title=\"8 15\"></td><td title=\"9 15\"></td><td title=\"10 15\"></td></tr>\n",
       "<tr><td title=\"0 16\"></td><td title=\"1 16\"></td><td title=\"2 16\"></td><td title=\"3 16\"></td><td title=\"4 16\"></td><td title=\"5 16\"></td><td title=\"6 16\"></td><td title=\"7 16\"></td><td title=\"8 16\"></td><td title=\"9 16\"></td><td title=\"10 16\"></td></tr>\n",
       "<tr><td title=\"0 17\"></td><td title=\"1 17\"></td><td title=\"2 17\"></td><td title=\"3 17\"></td><td title=\"4 17\"></td><td title=\"5 17\"></td><td title=\"6 17\"></td><td title=\"7 17\"></td><td title=\"8 17\"></td><td title=\"9 17\"></td><td title=\"10 17\"></td></tr>\n",
       "<tr><td title=\"0 18\"></td><td title=\"1 18\"></td><td title=\"2 18\"></td><td title=\"3 18\"></td><td title=\"4 18\"></td><td title=\"5 18\"></td><td title=\"6 18\"></td><td title=\"7 18\"></td><td title=\"8 18\"></td><td title=\"9 18\"></td><td title=\"10 18\"></td></tr>\n",
       "<tr><td title=\"0 19\"></td><td title=\"1 19\"></td><td title=\"2 19\"></td><td title=\"3 19\"></td><td title=\"4 19\"></td><td title=\"5 19\"></td><td title=\"6 19\"></td><td title=\"7 19\"></td><td title=\"8 19\"></td><td title=\"9 19\"></td><td title=\"10 19\"></td></tr>\n",
       "<tr><td title=\"0 20\"></td><td title=\"1 20\"></td><td title=\"2 20\"></td><td title=\"3 20\"></td><td title=\"4 20\"></td><td title=\"5 20\"></td><td title=\"6 20\"></td><td title=\"7 20\"></td><td title=\"8 20\"></td><td title=\"9 20\"></td><td title=\"10 20\"></td></tr>\n",
       "</table>\n",
       "\n",
       "</div>\n",
       "\n",
       "<script>\n",
       "var jslookup = {\"5 7\":[0,7,5,3],\"1 7\":[0,7,1,3],\"3 7\":[0,7,3,3],\"1 5\":[0,5,1,3],\"1 9\":[0,9,1,3],\"4 7\":[0,7,4,3],\"3 5\":[0,5,3,3],\"4 9\":[0,9,4,3],\"2 9\":[0,9,2,3],\"5 9\":[0,9,5,3],\"2 7\":[0,7,2,3],\"3 9\":[0,9,3,3],\"2 5\":[0,5,2,3],\"5 5\":[0,5,5,3],\"4 5\":[0,5,4,3]}; \n",
       "var jdividNUM = \"injblock1001\"; \n",
       "var Dclickedcell = null; \n",
       "function clickedcell() \n",
       "{ \n",
       "    Dclickedcell = this; \n",
       "    console.log(\"jjjj\", this); \n",
       "    var rgc = new RegExp('(^|\\b)' + \"selected\".split(' ').join('|') + '(\\b|$)', 'gi'); \n",
       "    Array.prototype.forEach.call(document.querySelectorAll(\"div#\"+jdividNUM+\" table.ex td.selected\"), function(el, i) { \n",
       "        if (el.classList)  el.classList.remove(\"selected\");\n",
       "        else  el.className = el.className.replace(rgc, ' ');\n",
       "    }); \n",
       "    if (this.classList)  this.classList.add(\"selected\");\n",
       "    else this.className += ' ' + \"selected\";\n",
       "\n",
       "    var dimpairs = jslookup[this.title]; \n",
       "    if (dimpairs !== undefined) {\n",
       "        for (var i = 1; i < dimpairs.length; i += 2) {\n",
       "            var row = document.querySelectorAll(\"div#\"+jdividNUM+\" table.ex tr\")[dimpairs[i]]; \n",
       "            var el = row.querySelectorAll(\"td\")[dimpairs[i-1]]; \n",
       "            if (el.classList)  el.classList.add(\"selected\");\n",
       "            else el.className += ' ' + \"selected\";\n",
       "        }\n",
       "    }\n",
       "}\n",
       "Array.prototype.forEach.call(document.querySelectorAll(\"div#\"+jdividNUM+\" table.ex td\"), function(item, i) { item.onclick=clickedcell; }); \n",
       "</script>\n"
      ],
      "text/plain": [
       "<IPython.core.display.HTML object>"
      ]
     },
     "metadata": {},
     "output_type": "display_data"
    }
   ],
   "source": [
    "c1 = ConversionSegment(observations, Dimensions, processTIMEUNIT=True)\n",
    "savepreviewhtml(c1)"
   ]
  },
  {
   "cell_type": "code",
   "execution_count": 10,
   "metadata": {},
   "outputs": [
    {
     "name": "stdout",
     "output_type": "stream",
     "text": [
      "\n"
     ]
    },
    {
     "data": {
      "text/html": [
       "<div>\n",
       "<style scoped>\n",
       "    .dataframe tbody tr th:only-of-type {\n",
       "        vertical-align: middle;\n",
       "    }\n",
       "\n",
       "    .dataframe tbody tr th {\n",
       "        vertical-align: top;\n",
       "    }\n",
       "\n",
       "    .dataframe thead th {\n",
       "        text-align: right;\n",
       "    }\n",
       "</style>\n",
       "<table border=\"1\" class=\"dataframe\">\n",
       "  <thead>\n",
       "    <tr style=\"text-align: right;\">\n",
       "      <th></th>\n",
       "      <th>OBS</th>\n",
       "      <th>Cause of Death</th>\n",
       "      <th>Deprivation Quintile Rate</th>\n",
       "      <th>Measure Type</th>\n",
       "      <th>Unit</th>\n",
       "    </tr>\n",
       "  </thead>\n",
       "  <tbody>\n",
       "    <tr>\n",
       "      <th>0</th>\n",
       "      <td>462.000000</td>\n",
       "      <td>Alcohol related deaths</td>\n",
       "      <td>Most Deprived\\n1</td>\n",
       "      <td>Count</td>\n",
       "      <td>People</td>\n",
       "    </tr>\n",
       "    <tr>\n",
       "      <th>1</th>\n",
       "      <td>304.000000</td>\n",
       "      <td>Alcohol related deaths</td>\n",
       "      <td>2.0</td>\n",
       "      <td>Count</td>\n",
       "      <td>People</td>\n",
       "    </tr>\n",
       "    <tr>\n",
       "      <th>2</th>\n",
       "      <td>208.000000</td>\n",
       "      <td>Alcohol related deaths</td>\n",
       "      <td>3.0</td>\n",
       "      <td>Count</td>\n",
       "      <td>People</td>\n",
       "    </tr>\n",
       "    <tr>\n",
       "      <th>3</th>\n",
       "      <td>152.000000</td>\n",
       "      <td>Alcohol related deaths</td>\n",
       "      <td>4.0</td>\n",
       "      <td>Count</td>\n",
       "      <td>People</td>\n",
       "    </tr>\n",
       "    <tr>\n",
       "      <th>4</th>\n",
       "      <td>114.000000</td>\n",
       "      <td>Alcohol related deaths</td>\n",
       "      <td>Least Deprived\\n5</td>\n",
       "      <td>Count</td>\n",
       "      <td>People</td>\n",
       "    </tr>\n",
       "    <tr>\n",
       "      <th>5</th>\n",
       "      <td>15960.000000</td>\n",
       "      <td>All deaths</td>\n",
       "      <td>Most Deprived\\n1</td>\n",
       "      <td>Count</td>\n",
       "      <td>People</td>\n",
       "    </tr>\n",
       "    <tr>\n",
       "      <th>6</th>\n",
       "      <td>16202.000000</td>\n",
       "      <td>All deaths</td>\n",
       "      <td>2.0</td>\n",
       "      <td>Count</td>\n",
       "      <td>People</td>\n",
       "    </tr>\n",
       "    <tr>\n",
       "      <th>7</th>\n",
       "      <td>15584.000000</td>\n",
       "      <td>All deaths</td>\n",
       "      <td>3.0</td>\n",
       "      <td>Count</td>\n",
       "      <td>People</td>\n",
       "    </tr>\n",
       "    <tr>\n",
       "      <th>8</th>\n",
       "      <td>14014.000000</td>\n",
       "      <td>All deaths</td>\n",
       "      <td>4.0</td>\n",
       "      <td>Count</td>\n",
       "      <td>People</td>\n",
       "    </tr>\n",
       "    <tr>\n",
       "      <th>9</th>\n",
       "      <td>13620.000000</td>\n",
       "      <td>All deaths</td>\n",
       "      <td>Least Deprived\\n5</td>\n",
       "      <td>Count</td>\n",
       "      <td>People</td>\n",
       "    </tr>\n",
       "    <tr>\n",
       "      <th>10</th>\n",
       "      <td>26.629777</td>\n",
       "      <td>Rate per 100,000 population</td>\n",
       "      <td>Most Deprived\\n1</td>\n",
       "      <td>Count</td>\n",
       "      <td>People</td>\n",
       "    </tr>\n",
       "    <tr>\n",
       "      <th>11</th>\n",
       "      <td>16.204518</td>\n",
       "      <td>Rate per 100,000 population</td>\n",
       "      <td>2.0</td>\n",
       "      <td>Count</td>\n",
       "      <td>People</td>\n",
       "    </tr>\n",
       "    <tr>\n",
       "      <th>12</th>\n",
       "      <td>10.610621</td>\n",
       "      <td>Rate per 100,000 population</td>\n",
       "      <td>3.0</td>\n",
       "      <td>Count</td>\n",
       "      <td>People</td>\n",
       "    </tr>\n",
       "    <tr>\n",
       "      <th>13</th>\n",
       "      <td>8.006591</td>\n",
       "      <td>Rate per 100,000 population</td>\n",
       "      <td>4.0</td>\n",
       "      <td>Count</td>\n",
       "      <td>People</td>\n",
       "    </tr>\n",
       "    <tr>\n",
       "      <th>14</th>\n",
       "      <td>6.559430</td>\n",
       "      <td>Rate per 100,000 population</td>\n",
       "      <td>Least Deprived\\n5</td>\n",
       "      <td>Count</td>\n",
       "      <td>People</td>\n",
       "    </tr>\n",
       "  </tbody>\n",
       "</table>\n",
       "</div>"
      ],
      "text/plain": [
       "             OBS               Cause of Death Deprivation Quintile Rate  \\\n",
       "0     462.000000       Alcohol related deaths          Most Deprived\\n1   \n",
       "1     304.000000       Alcohol related deaths                       2.0   \n",
       "2     208.000000       Alcohol related deaths                       3.0   \n",
       "3     152.000000       Alcohol related deaths                       4.0   \n",
       "4     114.000000       Alcohol related deaths         Least Deprived\\n5   \n",
       "5   15960.000000                   All deaths          Most Deprived\\n1   \n",
       "6   16202.000000                   All deaths                       2.0   \n",
       "7   15584.000000                   All deaths                       3.0   \n",
       "8   14014.000000                   All deaths                       4.0   \n",
       "9   13620.000000                   All deaths         Least Deprived\\n5   \n",
       "10     26.629777  Rate per 100,000 population          Most Deprived\\n1   \n",
       "11     16.204518  Rate per 100,000 population                       2.0   \n",
       "12     10.610621  Rate per 100,000 population                       3.0   \n",
       "13      8.006591  Rate per 100,000 population                       4.0   \n",
       "14      6.559430  Rate per 100,000 population         Least Deprived\\n5   \n",
       "\n",
       "   Measure Type    Unit  \n",
       "0         Count  People  \n",
       "1         Count  People  \n",
       "2         Count  People  \n",
       "3         Count  People  \n",
       "4         Count  People  \n",
       "5         Count  People  \n",
       "6         Count  People  \n",
       "7         Count  People  \n",
       "8         Count  People  \n",
       "9         Count  People  \n",
       "10        Count  People  \n",
       "11        Count  People  \n",
       "12        Count  People  \n",
       "13        Count  People  \n",
       "14        Count  People  "
      ]
     },
     "execution_count": 10,
     "metadata": {},
     "output_type": "execute_result"
    }
   ],
   "source": [
    "new_table = c1.topandas()\n",
    "new_table"
   ]
  },
  {
   "cell_type": "code",
   "execution_count": 11,
   "metadata": {
    "collapsed": true
   },
   "outputs": [],
   "source": [
    "new_table.columns = ['Value' if x=='OBS' else x for x in new_table.columns]"
   ]
  },
  {
   "cell_type": "code",
   "execution_count": 12,
   "metadata": {},
   "outputs": [
    {
     "data": {
      "text/plain": [
       "Value                        15\n",
       "Cause of Death               15\n",
       "Deprivation Quintile Rate    15\n",
       "Measure Type                 15\n",
       "Unit                         15\n",
       "dtype: int64"
      ]
     },
     "execution_count": 12,
     "metadata": {},
     "output_type": "execute_result"
    }
   ],
   "source": [
    "new_table.count()"
   ]
  },
  {
   "cell_type": "code",
   "execution_count": 13,
   "metadata": {
    "collapsed": true
   },
   "outputs": [],
   "source": [
    "new_table['Value'] = new_table['Value'].astype(int)"
   ]
  },
  {
   "cell_type": "code",
   "execution_count": 14,
   "metadata": {},
   "outputs": [
    {
     "data": {
      "text/plain": [
       "Value                         int32\n",
       "Cause of Death               object\n",
       "Deprivation Quintile Rate    object\n",
       "Measure Type                 object\n",
       "Unit                         object\n",
       "dtype: object"
      ]
     },
     "execution_count": 14,
     "metadata": {},
     "output_type": "execute_result"
    }
   ],
   "source": [
    "new_table.dtypes"
   ]
  },
  {
   "cell_type": "code",
   "execution_count": 15,
   "metadata": {},
   "outputs": [
    {
     "data": {
      "text/html": [
       "<div>\n",
       "<style scoped>\n",
       "    .dataframe tbody tr th:only-of-type {\n",
       "        vertical-align: middle;\n",
       "    }\n",
       "\n",
       "    .dataframe tbody tr th {\n",
       "        vertical-align: top;\n",
       "    }\n",
       "\n",
       "    .dataframe thead th {\n",
       "        text-align: right;\n",
       "    }\n",
       "</style>\n",
       "<table border=\"1\" class=\"dataframe\">\n",
       "  <thead>\n",
       "    <tr style=\"text-align: right;\">\n",
       "      <th></th>\n",
       "      <th>Value</th>\n",
       "      <th>Cause of Death</th>\n",
       "      <th>Deprivation Quintile Rate</th>\n",
       "      <th>Measure Type</th>\n",
       "      <th>Unit</th>\n",
       "    </tr>\n",
       "  </thead>\n",
       "  <tbody>\n",
       "    <tr>\n",
       "      <th>10</th>\n",
       "      <td>26</td>\n",
       "      <td>Rate per 100,000 population</td>\n",
       "      <td>Most Deprived\\n1</td>\n",
       "      <td>Count</td>\n",
       "      <td>People</td>\n",
       "    </tr>\n",
       "    <tr>\n",
       "      <th>11</th>\n",
       "      <td>16</td>\n",
       "      <td>Rate per 100,000 population</td>\n",
       "      <td>2.0</td>\n",
       "      <td>Count</td>\n",
       "      <td>People</td>\n",
       "    </tr>\n",
       "    <tr>\n",
       "      <th>12</th>\n",
       "      <td>10</td>\n",
       "      <td>Rate per 100,000 population</td>\n",
       "      <td>3.0</td>\n",
       "      <td>Count</td>\n",
       "      <td>People</td>\n",
       "    </tr>\n",
       "    <tr>\n",
       "      <th>13</th>\n",
       "      <td>8</td>\n",
       "      <td>Rate per 100,000 population</td>\n",
       "      <td>4.0</td>\n",
       "      <td>Count</td>\n",
       "      <td>People</td>\n",
       "    </tr>\n",
       "    <tr>\n",
       "      <th>14</th>\n",
       "      <td>6</td>\n",
       "      <td>Rate per 100,000 population</td>\n",
       "      <td>Least Deprived\\n5</td>\n",
       "      <td>Count</td>\n",
       "      <td>People</td>\n",
       "    </tr>\n",
       "  </tbody>\n",
       "</table>\n",
       "</div>"
      ],
      "text/plain": [
       "    Value               Cause of Death Deprivation Quintile Rate Measure Type  \\\n",
       "10     26  Rate per 100,000 population          Most Deprived\\n1        Count   \n",
       "11     16  Rate per 100,000 population                       2.0        Count   \n",
       "12     10  Rate per 100,000 population                       3.0        Count   \n",
       "13      8  Rate per 100,000 population                       4.0        Count   \n",
       "14      6  Rate per 100,000 population         Least Deprived\\n5        Count   \n",
       "\n",
       "      Unit  \n",
       "10  People  \n",
       "11  People  \n",
       "12  People  \n",
       "13  People  \n",
       "14  People  "
      ]
     },
     "execution_count": 15,
     "metadata": {},
     "output_type": "execute_result"
    }
   ],
   "source": [
    "new_table.tail(5)"
   ]
  },
  {
   "cell_type": "code",
   "execution_count": 16,
   "metadata": {},
   "outputs": [],
   "source": [
    "new_table['Deprivation Quintile Rate'] = new_table['Deprivation Quintile Rate'].map(\n",
    "    lambda x: {\n",
    "        'Most Deprived\\n1' : '1', \n",
    "        'Least Deprived\\n5' : '5'        \n",
    "       }.get(x, x))\n"
   ]
  },
  {
   "cell_type": "code",
   "execution_count": 17,
   "metadata": {
    "collapsed": true
   },
   "outputs": [],
   "source": [
    "new_table['Deprivation Quintile Rate'] = pd.to_numeric(new_table['Deprivation Quintile Rate'], errors='coerce').fillna(0)"
   ]
  },
  {
   "cell_type": "code",
   "execution_count": 18,
   "metadata": {},
   "outputs": [],
   "source": [
    "new_table['Deprivation Quintile Rate'] = new_table['Deprivation Quintile Rate'].astype(int)"
   ]
  },
  {
   "cell_type": "code",
   "execution_count": 19,
   "metadata": {},
   "outputs": [
    {
     "data": {
      "text/html": [
       "<div>\n",
       "<style scoped>\n",
       "    .dataframe tbody tr th:only-of-type {\n",
       "        vertical-align: middle;\n",
       "    }\n",
       "\n",
       "    .dataframe tbody tr th {\n",
       "        vertical-align: top;\n",
       "    }\n",
       "\n",
       "    .dataframe thead th {\n",
       "        text-align: right;\n",
       "    }\n",
       "</style>\n",
       "<table border=\"1\" class=\"dataframe\">\n",
       "  <thead>\n",
       "    <tr style=\"text-align: right;\">\n",
       "      <th></th>\n",
       "      <th>Value</th>\n",
       "      <th>Cause of Death</th>\n",
       "      <th>Deprivation Quintile Rate</th>\n",
       "      <th>Measure Type</th>\n",
       "      <th>Unit</th>\n",
       "    </tr>\n",
       "  </thead>\n",
       "  <tbody>\n",
       "    <tr>\n",
       "      <th>0</th>\n",
       "      <td>462</td>\n",
       "      <td>Alcohol related deaths</td>\n",
       "      <td>1</td>\n",
       "      <td>Count</td>\n",
       "      <td>People</td>\n",
       "    </tr>\n",
       "    <tr>\n",
       "      <th>1</th>\n",
       "      <td>304</td>\n",
       "      <td>Alcohol related deaths</td>\n",
       "      <td>2</td>\n",
       "      <td>Count</td>\n",
       "      <td>People</td>\n",
       "    </tr>\n",
       "    <tr>\n",
       "      <th>2</th>\n",
       "      <td>208</td>\n",
       "      <td>Alcohol related deaths</td>\n",
       "      <td>3</td>\n",
       "      <td>Count</td>\n",
       "      <td>People</td>\n",
       "    </tr>\n",
       "    <tr>\n",
       "      <th>3</th>\n",
       "      <td>152</td>\n",
       "      <td>Alcohol related deaths</td>\n",
       "      <td>4</td>\n",
       "      <td>Count</td>\n",
       "      <td>People</td>\n",
       "    </tr>\n",
       "    <tr>\n",
       "      <th>4</th>\n",
       "      <td>114</td>\n",
       "      <td>Alcohol related deaths</td>\n",
       "      <td>5</td>\n",
       "      <td>Count</td>\n",
       "      <td>People</td>\n",
       "    </tr>\n",
       "    <tr>\n",
       "      <th>5</th>\n",
       "      <td>15960</td>\n",
       "      <td>All deaths</td>\n",
       "      <td>1</td>\n",
       "      <td>Count</td>\n",
       "      <td>People</td>\n",
       "    </tr>\n",
       "    <tr>\n",
       "      <th>6</th>\n",
       "      <td>16202</td>\n",
       "      <td>All deaths</td>\n",
       "      <td>2</td>\n",
       "      <td>Count</td>\n",
       "      <td>People</td>\n",
       "    </tr>\n",
       "    <tr>\n",
       "      <th>7</th>\n",
       "      <td>15584</td>\n",
       "      <td>All deaths</td>\n",
       "      <td>3</td>\n",
       "      <td>Count</td>\n",
       "      <td>People</td>\n",
       "    </tr>\n",
       "    <tr>\n",
       "      <th>8</th>\n",
       "      <td>14014</td>\n",
       "      <td>All deaths</td>\n",
       "      <td>4</td>\n",
       "      <td>Count</td>\n",
       "      <td>People</td>\n",
       "    </tr>\n",
       "    <tr>\n",
       "      <th>9</th>\n",
       "      <td>13620</td>\n",
       "      <td>All deaths</td>\n",
       "      <td>5</td>\n",
       "      <td>Count</td>\n",
       "      <td>People</td>\n",
       "    </tr>\n",
       "    <tr>\n",
       "      <th>10</th>\n",
       "      <td>26</td>\n",
       "      <td>Rate per 100,000 population</td>\n",
       "      <td>1</td>\n",
       "      <td>Count</td>\n",
       "      <td>People</td>\n",
       "    </tr>\n",
       "    <tr>\n",
       "      <th>11</th>\n",
       "      <td>16</td>\n",
       "      <td>Rate per 100,000 population</td>\n",
       "      <td>2</td>\n",
       "      <td>Count</td>\n",
       "      <td>People</td>\n",
       "    </tr>\n",
       "    <tr>\n",
       "      <th>12</th>\n",
       "      <td>10</td>\n",
       "      <td>Rate per 100,000 population</td>\n",
       "      <td>3</td>\n",
       "      <td>Count</td>\n",
       "      <td>People</td>\n",
       "    </tr>\n",
       "    <tr>\n",
       "      <th>13</th>\n",
       "      <td>8</td>\n",
       "      <td>Rate per 100,000 population</td>\n",
       "      <td>4</td>\n",
       "      <td>Count</td>\n",
       "      <td>People</td>\n",
       "    </tr>\n",
       "    <tr>\n",
       "      <th>14</th>\n",
       "      <td>6</td>\n",
       "      <td>Rate per 100,000 population</td>\n",
       "      <td>5</td>\n",
       "      <td>Count</td>\n",
       "      <td>People</td>\n",
       "    </tr>\n",
       "  </tbody>\n",
       "</table>\n",
       "</div>"
      ],
      "text/plain": [
       "    Value               Cause of Death  Deprivation Quintile Rate  \\\n",
       "0     462       Alcohol related deaths                          1   \n",
       "1     304       Alcohol related deaths                          2   \n",
       "2     208       Alcohol related deaths                          3   \n",
       "3     152       Alcohol related deaths                          4   \n",
       "4     114       Alcohol related deaths                          5   \n",
       "5   15960                   All deaths                          1   \n",
       "6   16202                   All deaths                          2   \n",
       "7   15584                   All deaths                          3   \n",
       "8   14014                   All deaths                          4   \n",
       "9   13620                   All deaths                          5   \n",
       "10     26  Rate per 100,000 population                          1   \n",
       "11     16  Rate per 100,000 population                          2   \n",
       "12     10  Rate per 100,000 population                          3   \n",
       "13      8  Rate per 100,000 population                          4   \n",
       "14      6  Rate per 100,000 population                          5   \n",
       "\n",
       "   Measure Type    Unit  \n",
       "0         Count  People  \n",
       "1         Count  People  \n",
       "2         Count  People  \n",
       "3         Count  People  \n",
       "4         Count  People  \n",
       "5         Count  People  \n",
       "6         Count  People  \n",
       "7         Count  People  \n",
       "8         Count  People  \n",
       "9         Count  People  \n",
       "10        Count  People  \n",
       "11        Count  People  \n",
       "12        Count  People  \n",
       "13        Count  People  \n",
       "14        Count  People  "
      ]
     },
     "execution_count": 19,
     "metadata": {},
     "output_type": "execute_result"
    }
   ],
   "source": [
    "new_table"
   ]
  },
  {
   "cell_type": "code",
   "execution_count": 20,
   "metadata": {
    "collapsed": true
   },
   "outputs": [],
   "source": [
    "new_table = new_table[['Cause of Death','Deprivation Quintile Rate','Measure Type','Value','Unit']]"
   ]
  },
  {
   "cell_type": "code",
   "execution_count": 21,
   "metadata": {},
   "outputs": [
    {
     "data": {
      "text/html": [
       "<div>\n",
       "<style scoped>\n",
       "    .dataframe tbody tr th:only-of-type {\n",
       "        vertical-align: middle;\n",
       "    }\n",
       "\n",
       "    .dataframe tbody tr th {\n",
       "        vertical-align: top;\n",
       "    }\n",
       "\n",
       "    .dataframe thead th {\n",
       "        text-align: right;\n",
       "    }\n",
       "</style>\n",
       "<table border=\"1\" class=\"dataframe\">\n",
       "  <thead>\n",
       "    <tr style=\"text-align: right;\">\n",
       "      <th></th>\n",
       "      <th>Cause of Death</th>\n",
       "      <th>Deprivation Quintile Rate</th>\n",
       "      <th>Measure Type</th>\n",
       "      <th>Value</th>\n",
       "      <th>Unit</th>\n",
       "    </tr>\n",
       "  </thead>\n",
       "  <tbody>\n",
       "    <tr>\n",
       "      <th>0</th>\n",
       "      <td>Alcohol related deaths</td>\n",
       "      <td>1</td>\n",
       "      <td>Count</td>\n",
       "      <td>462</td>\n",
       "      <td>People</td>\n",
       "    </tr>\n",
       "    <tr>\n",
       "      <th>1</th>\n",
       "      <td>Alcohol related deaths</td>\n",
       "      <td>2</td>\n",
       "      <td>Count</td>\n",
       "      <td>304</td>\n",
       "      <td>People</td>\n",
       "    </tr>\n",
       "    <tr>\n",
       "      <th>2</th>\n",
       "      <td>Alcohol related deaths</td>\n",
       "      <td>3</td>\n",
       "      <td>Count</td>\n",
       "      <td>208</td>\n",
       "      <td>People</td>\n",
       "    </tr>\n",
       "    <tr>\n",
       "      <th>3</th>\n",
       "      <td>Alcohol related deaths</td>\n",
       "      <td>4</td>\n",
       "      <td>Count</td>\n",
       "      <td>152</td>\n",
       "      <td>People</td>\n",
       "    </tr>\n",
       "    <tr>\n",
       "      <th>4</th>\n",
       "      <td>Alcohol related deaths</td>\n",
       "      <td>5</td>\n",
       "      <td>Count</td>\n",
       "      <td>114</td>\n",
       "      <td>People</td>\n",
       "    </tr>\n",
       "  </tbody>\n",
       "</table>\n",
       "</div>"
      ],
      "text/plain": [
       "           Cause of Death  Deprivation Quintile Rate Measure Type  Value  \\\n",
       "0  Alcohol related deaths                          1        Count    462   \n",
       "1  Alcohol related deaths                          2        Count    304   \n",
       "2  Alcohol related deaths                          3        Count    208   \n",
       "3  Alcohol related deaths                          4        Count    152   \n",
       "4  Alcohol related deaths                          5        Count    114   \n",
       "\n",
       "     Unit  \n",
       "0  People  \n",
       "1  People  \n",
       "2  People  \n",
       "3  People  \n",
       "4  People  "
      ]
     },
     "execution_count": 21,
     "metadata": {},
     "output_type": "execute_result"
    }
   ],
   "source": [
    "new_table.head(5)"
   ]
  },
  {
   "cell_type": "code",
   "execution_count": 22,
   "metadata": {
    "collapsed": true
   },
   "outputs": [],
   "source": [
    "destinationFolder = Path('out')\n",
    "destinationFolder.mkdir(exist_ok=True, parents=True)\n",
    "\n",
    "new_table.to_csv(destinationFolder / ('tab5ai.csv'), index = False)"
   ]
  },
  {
   "cell_type": "code",
   "execution_count": null,
   "metadata": {
    "collapsed": true
   },
   "outputs": [],
   "source": []
  }
 ],
 "metadata": {
  "kernelspec": {
   "display_name": "Python 3",
   "language": "python",
   "name": "python3"
  },
  "language_info": {
   "codemirror_mode": {
    "name": "ipython",
    "version": 3
   },
   "file_extension": ".py",
   "mimetype": "text/x-python",
   "name": "python",
   "nbconvert_exporter": "python",
   "pygments_lexer": "ipython3",
   "version": "3.6.3"
  }
 },
 "nbformat": 4,
 "nbformat_minor": 2
}
