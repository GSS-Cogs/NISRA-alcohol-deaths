{
 "cells": [
  {
   "cell_type": "markdown",
   "metadata": {},
   "source": [
    "Table 5:  Number of alcohol related deaths by deprivation quintile NIMDM171 and death rate per 100,000 population"
   ]
  },
  {
   "cell_type": "code",
   "execution_count": 1,
   "metadata": {},
   "outputs": [
    {
     "name": "stdout",
     "output_type": "stream",
     "text": [
      "Loading in\\Alcohol_Tables_17.xls which has size 900608 bytes\n",
      "Table names: ['Table 5']\n"
     ]
    }
   ],
   "source": [
    "from gssutils import *\n",
    "\n",
    "if is_interactive():\n",
    "    import requests\n",
    "    from cachecontrol import CacheControl\n",
    "    from cachecontrol.caches.file_cache import FileCache\n",
    "    from cachecontrol.heuristics import LastModified\n",
    "    from pathlib import Path\n",
    "\n",
    "    session = CacheControl(requests.Session(),\n",
    "                           cache=FileCache('.cache'),\n",
    "                           heuristic=LastModified())\n",
    "\n",
    "    sourceFolder = Path('in')\n",
    "    sourceFolder.mkdir(exist_ok=True)\n",
    "\n",
    "    inputURL = 'https://www.nisra.gov.uk/sites/nisra.gov.uk/files/publications/Alcohol_Tables_17.xls'\n",
    "    inputFile = sourceFolder / 'Alcohol_Tables_17.xls'\n",
    "    response = session.get(inputURL)\n",
    "    with open(inputFile, 'wb') as f:\n",
    "      f.write(response.content)\n",
    "    tab = loadxlstabs(inputFile, sheetids='Table 5')[0]"
   ]
  },
  {
   "cell_type": "code",
   "execution_count": 2,
   "metadata": {
    "collapsed": true
   },
   "outputs": [],
   "source": [
    "cell = tab.filter('Cause of Death')\n",
    "dp = cell.fill(RIGHT).is_not_blank().is_not_blank().is_not_whitespace() |\\\n",
    "        cell.shift(0,1).fill(RIGHT).is_not_blank().is_not_whitespace()\n",
    "cod = cell.fill(DOWN).is_not_blank().is_not_whitespace()\n",
    "observations = cod.fill(RIGHT).is_not_blank().is_not_whitespace()\n",
    "# Dimensions = [\n",
    "#             HDim(Year,'Year',DIRECTLY,LEFT),\n",
    "#             HDim(age, 'Age',DIRECTLY,ABOVE),\n",
    "#             HDimConst('Measure Type', 'Count'),\n",
    "#             HDimConst('Unit','People'),\n",
    "#             HDimConst('Sex', 'T'),\n",
    "#             HDimConst('Underlying Cause of Death', 'all-alcohol-related-deaths'),\n",
    "#             HDimConst('Health and Social Care Trust', 'all')\n",
    "#             ]\n",
    "# c1 = ConversionSegment(observations, Dimensions, processTIMEUNIT=True)\n",
    "# if is_interactive():\n",
    "#     savepreviewhtml(c1)\n",
    "# table = c1.topandas()"
   ]
  },
  {
   "cell_type": "code",
   "execution_count": 3,
   "metadata": {},
   "outputs": [],
   "source": [
    "Dimensions = [\n",
    "            HDim(cod,'Cause of Death',DIRECTLY,LEFT),\n",
    "            HDim(dp, 'Deprivation Quintile',DIRECTLY,ABOVE),\n",
    "            HDimConst('Measure Type', 'Count'),\n",
    "            HDimConst('Unit','People')\n",
    "            ]"
   ]
  },
  {
   "cell_type": "code",
   "execution_count": 4,
   "metadata": {},
   "outputs": [
    {
     "data": {
      "text/html": [
       "<div id=\"injblock1001\">\n",
       "<style>\n",
       "table.ex, table.exkey { border: thin black solid }\n",
       "table.ex td, table.ex tr { border: none }\n",
       "table.ex td:hover { border: thin blue solid }\n",
       "table.ex td.excOBS:hover { border: thin red solid }\n",
       "table.ex td.selected { border: thick red solid }\n",
       "</style>\n",
       "\n",
       "\n",
       "<table class=\"exkey\">\n",
       "<tr><td class=\"xc0\" style=\"background-color:Aqua\">OBS</td><td class=\"xc1\" style=\"background-color:LightGreen\">Cause of Death</td><td class=\"xc2\" style=\"background-color:MistyRose\">Deprivation Quintile</td></tr></table>\n",
       "\n",
       "<table class=\"ex\">\n",
       "<caption style=\"text-align:center; padding:0px; caption-side:bottom\">Table 5</caption>\n",
       "<tr><td style=\"font-weight:bold\" title=\"0 0\">Table 5:  Number of alcohol related deaths by deprivation quintile NIMDM171 and death rate per 100,000 population, 2013-2017 </td><td title=\"1 0\"></td><td title=\"2 0\"></td><td title=\"3 0\"></td><td title=\"4 0\"></td><td title=\"5 0\"></td><td title=\"6 0\"></td><td title=\"7 0\"></td><td title=\"8 0\"></td><td title=\"9 0\"></td><td title=\"10 0\"></td></tr>\n",
       "<tr><td style=\"font-weight:bold\" title=\"0 1\"></td><td title=\"1 1\"></td><td title=\"2 1\"></td><td title=\"3 1\"></td><td title=\"4 1\"></td><td title=\"5 1\"></td><td title=\"6 1\"></td><td title=\"7 1\"></td><td title=\"8 1\"></td><td title=\"9 1\"></td><td title=\"10 1\"></td></tr>\n",
       "<tr><td style=\"font-weight:bold\" title=\"0 2\">Cause of Death</td><td style=\"background-color:MistyRose;font-weight:bold\" title=\"1 2\">Deprivation Quintile1</td><td style=\"font-weight:bold\" title=\"2 2\"></td><td style=\"font-weight:bold\" title=\"3 2\"></td><td style=\"font-weight:bold\" title=\"4 2\"></td><td style=\"font-weight:bold\" title=\"5 2\"></td><td title=\"6 2\"></td><td title=\"7 2\"></td><td title=\"8 2\"></td><td title=\"9 2\"></td><td title=\"10 2\"></td></tr>\n",
       "<tr><td style=\"font-weight:bold\" title=\"0 3\"></td><td style=\"background-color:MistyRose;font-weight:bold\" title=\"1 3\">Most Deprived\n",
       "1</td><td style=\"background-color:MistyRose;font-weight:bold\" title=\"2 3\">2.0</td><td style=\"background-color:MistyRose;font-weight:bold\" title=\"3 3\">3.0</td><td style=\"background-color:MistyRose;font-weight:bold\" title=\"4 3\">4.0</td><td style=\"background-color:MistyRose;font-weight:bold\" title=\"5 3\">Least Deprived\n",
       "5</td><td title=\"6 3\"></td><td title=\"7 3\"></td><td title=\"8 3\"></td><td title=\"9 3\"></td><td title=\"10 3\"></td></tr>\n",
       "<tr><td style=\"font-weight:bold\" title=\"0 4\"></td><td style=\"font-weight:bold\" title=\"1 4\"></td><td style=\"font-weight:bold\" title=\"2 4\"></td><td style=\"font-weight:bold\" title=\"3 4\"></td><td style=\"font-weight:bold\" title=\"4 4\"></td><td style=\"font-weight:bold\" title=\"5 4\"></td><td title=\"6 4\"></td><td title=\"7 4\"></td><td title=\"8 4\"></td><td title=\"9 4\"></td><td title=\"10 4\"></td></tr>\n",
       "<tr><td style=\"background-color:LightGreen\" title=\"0 5\">Alcohol related deaths</td><td style=\"background-color:Aqua;font-weight:bold\" title=\"1 5\">461.0</td><td style=\"background-color:Aqua;font-weight:bold\" title=\"2 5\">324.0</td><td style=\"background-color:Aqua;font-weight:bold\" title=\"3 5\">211.0</td><td style=\"background-color:Aqua;font-weight:bold\" title=\"4 5\">182.0</td><td style=\"background-color:Aqua;font-weight:bold\" title=\"5 5\">121.0</td><td title=\"6 5\"></td><td title=\"7 5\"></td><td title=\"8 5\"></td><td title=\"9 5\"></td><td title=\"10 5\"></td></tr>\n",
       "<tr><td title=\"0 6\"></td><td title=\"1 6\"></td><td title=\"2 6\"></td><td title=\"3 6\"></td><td title=\"4 6\"></td><td title=\"5 6\"></td><td title=\"6 6\"></td><td title=\"7 6\"></td><td title=\"8 6\"></td><td title=\"9 6\"></td><td title=\"10 6\"></td></tr>\n",
       "<tr><td style=\"background-color:LightGreen\" title=\"0 7\">All deaths</td><td style=\"background-color:Aqua;font-weight:bold\" title=\"1 7\">15811.0</td><td style=\"background-color:Aqua;font-weight:bold\" title=\"2 7\">16229.0</td><td style=\"background-color:Aqua;font-weight:bold\" title=\"3 7\">15465.0</td><td style=\"background-color:Aqua;font-weight:bold\" title=\"4 7\">14804.0</td><td style=\"background-color:Aqua;font-weight:bold\" title=\"5 7\">14351.0</td><td title=\"6 7\"></td><td title=\"7 7\"></td><td title=\"8 7\"></td><td title=\"9 7\"></td><td title=\"10 7\"></td></tr>\n",
       "<tr><td title=\"0 8\"></td><td title=\"1 8\"></td><td title=\"2 8\"></td><td title=\"3 8\"></td><td title=\"4 8\"></td><td title=\"5 8\"></td><td title=\"6 8\"></td><td title=\"7 8\"></td><td title=\"8 8\"></td><td title=\"9 8\"></td><td title=\"10 8\"></td></tr>\n",
       "<tr><td style=\"background-color:LightGreen\" title=\"0 9\">Rate per 100,000 population</td><td style=\"background-color:Aqua\" title=\"1 9\">26.647491262975482</td><td style=\"background-color:Aqua\" title=\"2 9\">17.161953220964914</td><td style=\"background-color:Aqua\" title=\"3 9\">10.824287443826565</td><td style=\"background-color:Aqua\" title=\"4 9\">9.450804408852184</td><td style=\"background-color:Aqua\" title=\"5 9\">6.867827802556195</td><td title=\"6 9\"></td><td title=\"7 9\"></td><td title=\"8 9\"></td><td title=\"9 9\"></td><td title=\"10 9\"></td></tr>\n",
       "<tr><td title=\"0 10\"></td><td title=\"1 10\"></td><td title=\"2 10\"></td><td title=\"3 10\"></td><td title=\"4 10\"></td><td title=\"5 10\"></td><td title=\"6 10\"></td><td title=\"7 10\"></td><td title=\"8 10\"></td><td title=\"9 10\"></td><td title=\"10 10\"></td></tr>\n",
       "<tr><td style=\"background-color:LightGreen\" title=\"0 11\">1  2017 measure of multiple deprivation has been used.  Further information can be found at:</td><td title=\"1 11\"></td><td title=\"2 11\"></td><td title=\"3 11\"></td><td title=\"4 11\"></td><td title=\"5 11\"></td><td title=\"6 11\"></td><td title=\"7 11\"></td><td title=\"8 11\"></td><td title=\"9 11\"></td><td title=\"10 11\"></td></tr>\n",
       "<tr><td style=\"background-color:LightGreen\" title=\"0 12\">https://www.nisra.gov.uk/statistics/deprivation/northern-ireland-multiple-deprivation-measure-2017-nimdm2017</td><td title=\"1 12\"></td><td title=\"2 12\"></td><td title=\"3 12\"></td><td title=\"4 12\"></td><td title=\"5 12\"></td><td title=\"6 12\"></td><td title=\"7 12\"></td><td title=\"8 12\"></td><td title=\"9 12\"></td><td title=\"10 12\"></td></tr>\n",
       "<tr><td title=\"0 13\"></td><td title=\"1 13\"></td><td title=\"2 13\"></td><td title=\"3 13\"></td><td title=\"4 13\"></td><td title=\"5 13\"></td><td title=\"6 13\"></td><td title=\"7 13\"></td><td title=\"8 13\"></td><td title=\"9 13\"></td><td title=\"10 13\"></td></tr>\n",
       "<tr><td style=\"background-color:LightGreen\" title=\"0 14\">Note: The definition of alcohol-specific deaths was revised in 2017.</td><td title=\"1 14\"></td><td title=\"2 14\"></td><td title=\"3 14\"></td><td title=\"4 14\"></td><td title=\"5 14\"></td><td title=\"6 14\"></td><td title=\"7 14\"></td><td title=\"8 14\"></td><td title=\"9 14\"></td><td title=\"10 14\"></td></tr>\n",
       "<tr><td style=\"background-color:LightGreen\" title=\"0 15\">Please see the 'Notes' section for further details.</td><td title=\"1 15\"></td><td title=\"2 15\"></td><td title=\"3 15\"></td><td title=\"4 15\"></td><td title=\"5 15\"></td><td title=\"6 15\"></td><td title=\"7 15\"></td><td title=\"8 15\"></td><td title=\"9 15\"></td><td title=\"10 15\"></td></tr>\n",
       "<tr><td title=\"0 16\"></td><td title=\"1 16\"></td><td title=\"2 16\"></td><td title=\"3 16\"></td><td title=\"4 16\"></td><td title=\"5 16\"></td><td title=\"6 16\"></td><td title=\"7 16\"></td><td title=\"8 16\"></td><td title=\"9 16\"></td><td title=\"10 16\"></td></tr>\n",
       "<tr><td title=\"0 17\"></td><td title=\"1 17\"></td><td title=\"2 17\"></td><td title=\"3 17\"></td><td title=\"4 17\"></td><td title=\"5 17\"></td><td title=\"6 17\"></td><td title=\"7 17\"></td><td title=\"8 17\"></td><td title=\"9 17\"></td><td title=\"10 17\"></td></tr>\n",
       "<tr><td title=\"0 18\"></td><td title=\"1 18\"></td><td title=\"2 18\"></td><td title=\"3 18\"></td><td title=\"4 18\"></td><td title=\"5 18\"></td><td title=\"6 18\"></td><td title=\"7 18\"></td><td title=\"8 18\"></td><td title=\"9 18\"></td><td title=\"10 18\"></td></tr>\n",
       "<tr><td title=\"0 19\"></td><td title=\"1 19\"></td><td title=\"2 19\"></td><td title=\"3 19\"></td><td title=\"4 19\"></td><td title=\"5 19\"></td><td title=\"6 19\"></td><td title=\"7 19\"></td><td title=\"8 19\"></td><td title=\"9 19\"></td><td title=\"10 19\"></td></tr>\n",
       "<tr><td title=\"0 20\"></td><td title=\"1 20\"></td><td title=\"2 20\"></td><td title=\"3 20\"></td><td title=\"4 20\"></td><td title=\"5 20\"></td><td title=\"6 20\"></td><td title=\"7 20\"></td><td title=\"8 20\"></td><td title=\"9 20\"></td><td title=\"10 20\"></td></tr>\n",
       "</table>\n",
       "\n",
       "</div>\n",
       "\n",
       "<script>\n",
       "var jslookup = {\"5 7\":[0,7,5,3],\"4 7\":[0,7,4,3],\"3 5\":[0,5,3,3],\"2 9\":[0,9,2,3],\"5 5\":[0,5,5,3],\"2 7\":[0,7,2,3],\"4 5\":[0,5,4,3],\"1 9\":[0,9,1,3],\"1 7\":[0,7,1,3],\"3 7\":[0,7,3,3],\"2 5\":[0,5,2,3],\"5 9\":[0,9,5,3],\"3 9\":[0,9,3,3],\"1 5\":[0,5,1,3],\"4 9\":[0,9,4,3]}; \n",
       "var jdividNUM = \"injblock1001\"; \n",
       "var Dclickedcell = null; \n",
       "function clickedcell() \n",
       "{ \n",
       "    Dclickedcell = this; \n",
       "    console.log(\"jjjj\", this); \n",
       "    var rgc = new RegExp('(^|\\b)' + \"selected\".split(' ').join('|') + '(\\b|$)', 'gi'); \n",
       "    Array.prototype.forEach.call(document.querySelectorAll(\"div#\"+jdividNUM+\" table.ex td.selected\"), function(el, i) { \n",
       "        if (el.classList)  el.classList.remove(\"selected\");\n",
       "        else  el.className = el.className.replace(rgc, ' ');\n",
       "    }); \n",
       "    if (this.classList)  this.classList.add(\"selected\");\n",
       "    else this.className += ' ' + \"selected\";\n",
       "\n",
       "    var dimpairs = jslookup[this.title]; \n",
       "    if (dimpairs !== undefined) {\n",
       "        for (var i = 1; i < dimpairs.length; i += 2) {\n",
       "            var row = document.querySelectorAll(\"div#\"+jdividNUM+\" table.ex tr\")[dimpairs[i]]; \n",
       "            var el = row.querySelectorAll(\"td\")[dimpairs[i-1]]; \n",
       "            if (el.classList)  el.classList.add(\"selected\");\n",
       "            else el.className += ' ' + \"selected\";\n",
       "        }\n",
       "    }\n",
       "}\n",
       "Array.prototype.forEach.call(document.querySelectorAll(\"div#\"+jdividNUM+\" table.ex td\"), function(item, i) { item.onclick=clickedcell; }); \n",
       "</script>\n"
      ],
      "text/plain": [
       "<IPython.core.display.HTML object>"
      ]
     },
     "metadata": {},
     "output_type": "display_data"
    }
   ],
   "source": [
    "c1 = ConversionSegment(observations, Dimensions, processTIMEUNIT=True)\n",
    "if is_interactive():\n",
    "    savepreviewhtml(c1)"
   ]
  },
  {
   "cell_type": "code",
   "execution_count": 5,
   "metadata": {},
   "outputs": [
    {
     "name": "stdout",
     "output_type": "stream",
     "text": [
      "\n"
     ]
    }
   ],
   "source": [
    "new_table = c1.topandas()"
   ]
  },
  {
   "cell_type": "code",
   "execution_count": 6,
   "metadata": {
    "collapsed": true
   },
   "outputs": [],
   "source": [
    "new_table.columns = ['Value' if x=='OBS' else x for x in new_table.columns]"
   ]
  },
  {
   "cell_type": "code",
   "execution_count": 7,
   "metadata": {
    "collapsed": true
   },
   "outputs": [],
   "source": [
    "new_table['Value'] = new_table['Value'].astype(int)"
   ]
  },
  {
   "cell_type": "code",
   "execution_count": 8,
   "metadata": {},
   "outputs": [],
   "source": [
    "new_table['Deprivation Quintile'] = new_table['Deprivation Quintile'].map(\n",
    "    lambda x: {\n",
    "        'Most Deprived\\n1' : '1', \n",
    "        'Least Deprived\\n5' : '5'        \n",
    "       }.get(x, x))"
   ]
  },
  {
   "cell_type": "code",
   "execution_count": 9,
   "metadata": {
    "collapsed": true
   },
   "outputs": [],
   "source": [
    "new_table['Deprivation Quintile'] = pd.to_numeric(new_table['Deprivation Quintile'], errors='coerce').fillna(0)"
   ]
  },
  {
   "cell_type": "code",
   "execution_count": 10,
   "metadata": {
    "collapsed": true
   },
   "outputs": [],
   "source": [
    "new_table['Deprivation Quintile'] = new_table['Deprivation Quintile'].astype(int)"
   ]
  },
  {
   "cell_type": "code",
   "execution_count": 11,
   "metadata": {
    "collapsed": true
   },
   "outputs": [],
   "source": [
    "def user_perc(x,y):\n",
    "    \n",
    "    if str(x) == 'Rate per 100,000 population':\n",
    "        return 'rate-per-100-000-persons'\n",
    "    else:\n",
    "        return y\n",
    "    \n",
    "new_table['Measure Type'] = new_table.apply(lambda row: user_perc(row['Cause of Death'],row['Measure Type']), axis = 1)"
   ]
  },
  {
   "cell_type": "code",
   "execution_count": 12,
   "metadata": {
    "collapsed": true
   },
   "outputs": [],
   "source": [
    "new_table['Cause of Death'] = new_table['Cause of Death'].map(\n",
    "    lambda x: {\n",
    "        'Alcohol related deaths' : 'alcohol-related-deaths', \n",
    "        'All deaths' : 'all-deaths',\n",
    "       'Rate per 100,000 population' : 'alcohol-related-deaths'       \n",
    "       }.get(x, x))"
   ]
  },
  {
   "cell_type": "code",
   "execution_count": 13,
   "metadata": {},
   "outputs": [],
   "source": [
    "new_table['Period'] = 'gregorian-interval/20013-01-01T00:00:00/P4Y'"
   ]
  },
  {
   "cell_type": "code",
   "execution_count": 14,
   "metadata": {
    "collapsed": true
   },
   "outputs": [],
   "source": [
    "new_table = new_table[['Period','Cause of Death','Deprivation Quintile','Measure Type','Value','Unit']]"
   ]
  },
  {
   "cell_type": "code",
   "execution_count": 15,
   "metadata": {},
   "outputs": [],
   "source": [
    "if is_interactive():\n",
    "    destinationFolder = Path('out')\n",
    "    destinationFolder.mkdir(exist_ok=True, parents=True)\n",
    "\n",
    "    new_table.to_csv(destinationFolder / ('table5.csv'), index = False)"
   ]
  },
  {
   "cell_type": "code",
   "execution_count": 16,
   "metadata": {},
   "outputs": [
    {
     "data": {
      "text/html": [
       "<div>\n",
       "<style scoped>\n",
       "    .dataframe tbody tr th:only-of-type {\n",
       "        vertical-align: middle;\n",
       "    }\n",
       "\n",
       "    .dataframe tbody tr th {\n",
       "        vertical-align: top;\n",
       "    }\n",
       "\n",
       "    .dataframe thead th {\n",
       "        text-align: right;\n",
       "    }\n",
       "</style>\n",
       "<table border=\"1\" class=\"dataframe\">\n",
       "  <thead>\n",
       "    <tr style=\"text-align: right;\">\n",
       "      <th></th>\n",
       "      <th>Period</th>\n",
       "      <th>Cause of Death</th>\n",
       "      <th>Deprivation Quintile</th>\n",
       "      <th>Measure Type</th>\n",
       "      <th>Value</th>\n",
       "      <th>Unit</th>\n",
       "    </tr>\n",
       "  </thead>\n",
       "  <tbody>\n",
       "    <tr>\n",
       "      <th>0</th>\n",
       "      <td>gregorian-interval/20013-01-01T00:00:00/P4Y</td>\n",
       "      <td>alcohol-related-deaths</td>\n",
       "      <td>1</td>\n",
       "      <td>Count</td>\n",
       "      <td>461</td>\n",
       "      <td>People</td>\n",
       "    </tr>\n",
       "    <tr>\n",
       "      <th>1</th>\n",
       "      <td>gregorian-interval/20013-01-01T00:00:00/P4Y</td>\n",
       "      <td>alcohol-related-deaths</td>\n",
       "      <td>2</td>\n",
       "      <td>Count</td>\n",
       "      <td>324</td>\n",
       "      <td>People</td>\n",
       "    </tr>\n",
       "    <tr>\n",
       "      <th>2</th>\n",
       "      <td>gregorian-interval/20013-01-01T00:00:00/P4Y</td>\n",
       "      <td>alcohol-related-deaths</td>\n",
       "      <td>3</td>\n",
       "      <td>Count</td>\n",
       "      <td>211</td>\n",
       "      <td>People</td>\n",
       "    </tr>\n",
       "    <tr>\n",
       "      <th>3</th>\n",
       "      <td>gregorian-interval/20013-01-01T00:00:00/P4Y</td>\n",
       "      <td>alcohol-related-deaths</td>\n",
       "      <td>4</td>\n",
       "      <td>Count</td>\n",
       "      <td>182</td>\n",
       "      <td>People</td>\n",
       "    </tr>\n",
       "    <tr>\n",
       "      <th>4</th>\n",
       "      <td>gregorian-interval/20013-01-01T00:00:00/P4Y</td>\n",
       "      <td>alcohol-related-deaths</td>\n",
       "      <td>5</td>\n",
       "      <td>Count</td>\n",
       "      <td>121</td>\n",
       "      <td>People</td>\n",
       "    </tr>\n",
       "    <tr>\n",
       "      <th>5</th>\n",
       "      <td>gregorian-interval/20013-01-01T00:00:00/P4Y</td>\n",
       "      <td>all-deaths</td>\n",
       "      <td>1</td>\n",
       "      <td>Count</td>\n",
       "      <td>15811</td>\n",
       "      <td>People</td>\n",
       "    </tr>\n",
       "    <tr>\n",
       "      <th>6</th>\n",
       "      <td>gregorian-interval/20013-01-01T00:00:00/P4Y</td>\n",
       "      <td>all-deaths</td>\n",
       "      <td>2</td>\n",
       "      <td>Count</td>\n",
       "      <td>16229</td>\n",
       "      <td>People</td>\n",
       "    </tr>\n",
       "    <tr>\n",
       "      <th>7</th>\n",
       "      <td>gregorian-interval/20013-01-01T00:00:00/P4Y</td>\n",
       "      <td>all-deaths</td>\n",
       "      <td>3</td>\n",
       "      <td>Count</td>\n",
       "      <td>15465</td>\n",
       "      <td>People</td>\n",
       "    </tr>\n",
       "    <tr>\n",
       "      <th>8</th>\n",
       "      <td>gregorian-interval/20013-01-01T00:00:00/P4Y</td>\n",
       "      <td>all-deaths</td>\n",
       "      <td>4</td>\n",
       "      <td>Count</td>\n",
       "      <td>14804</td>\n",
       "      <td>People</td>\n",
       "    </tr>\n",
       "    <tr>\n",
       "      <th>9</th>\n",
       "      <td>gregorian-interval/20013-01-01T00:00:00/P4Y</td>\n",
       "      <td>all-deaths</td>\n",
       "      <td>5</td>\n",
       "      <td>Count</td>\n",
       "      <td>14351</td>\n",
       "      <td>People</td>\n",
       "    </tr>\n",
       "    <tr>\n",
       "      <th>10</th>\n",
       "      <td>gregorian-interval/20013-01-01T00:00:00/P4Y</td>\n",
       "      <td>alcohol-related-deaths</td>\n",
       "      <td>1</td>\n",
       "      <td>rate-per-100-000-persons</td>\n",
       "      <td>26</td>\n",
       "      <td>People</td>\n",
       "    </tr>\n",
       "    <tr>\n",
       "      <th>11</th>\n",
       "      <td>gregorian-interval/20013-01-01T00:00:00/P4Y</td>\n",
       "      <td>alcohol-related-deaths</td>\n",
       "      <td>2</td>\n",
       "      <td>rate-per-100-000-persons</td>\n",
       "      <td>17</td>\n",
       "      <td>People</td>\n",
       "    </tr>\n",
       "    <tr>\n",
       "      <th>12</th>\n",
       "      <td>gregorian-interval/20013-01-01T00:00:00/P4Y</td>\n",
       "      <td>alcohol-related-deaths</td>\n",
       "      <td>3</td>\n",
       "      <td>rate-per-100-000-persons</td>\n",
       "      <td>10</td>\n",
       "      <td>People</td>\n",
       "    </tr>\n",
       "    <tr>\n",
       "      <th>13</th>\n",
       "      <td>gregorian-interval/20013-01-01T00:00:00/P4Y</td>\n",
       "      <td>alcohol-related-deaths</td>\n",
       "      <td>4</td>\n",
       "      <td>rate-per-100-000-persons</td>\n",
       "      <td>9</td>\n",
       "      <td>People</td>\n",
       "    </tr>\n",
       "    <tr>\n",
       "      <th>14</th>\n",
       "      <td>gregorian-interval/20013-01-01T00:00:00/P4Y</td>\n",
       "      <td>alcohol-related-deaths</td>\n",
       "      <td>5</td>\n",
       "      <td>rate-per-100-000-persons</td>\n",
       "      <td>6</td>\n",
       "      <td>People</td>\n",
       "    </tr>\n",
       "  </tbody>\n",
       "</table>\n",
       "</div>"
      ],
      "text/plain": [
       "                                         Period          Cause of Death  \\\n",
       "0   gregorian-interval/20013-01-01T00:00:00/P4Y  alcohol-related-deaths   \n",
       "1   gregorian-interval/20013-01-01T00:00:00/P4Y  alcohol-related-deaths   \n",
       "2   gregorian-interval/20013-01-01T00:00:00/P4Y  alcohol-related-deaths   \n",
       "3   gregorian-interval/20013-01-01T00:00:00/P4Y  alcohol-related-deaths   \n",
       "4   gregorian-interval/20013-01-01T00:00:00/P4Y  alcohol-related-deaths   \n",
       "5   gregorian-interval/20013-01-01T00:00:00/P4Y              all-deaths   \n",
       "6   gregorian-interval/20013-01-01T00:00:00/P4Y              all-deaths   \n",
       "7   gregorian-interval/20013-01-01T00:00:00/P4Y              all-deaths   \n",
       "8   gregorian-interval/20013-01-01T00:00:00/P4Y              all-deaths   \n",
       "9   gregorian-interval/20013-01-01T00:00:00/P4Y              all-deaths   \n",
       "10  gregorian-interval/20013-01-01T00:00:00/P4Y  alcohol-related-deaths   \n",
       "11  gregorian-interval/20013-01-01T00:00:00/P4Y  alcohol-related-deaths   \n",
       "12  gregorian-interval/20013-01-01T00:00:00/P4Y  alcohol-related-deaths   \n",
       "13  gregorian-interval/20013-01-01T00:00:00/P4Y  alcohol-related-deaths   \n",
       "14  gregorian-interval/20013-01-01T00:00:00/P4Y  alcohol-related-deaths   \n",
       "\n",
       "    Deprivation Quintile              Measure Type  Value    Unit  \n",
       "0                      1                     Count    461  People  \n",
       "1                      2                     Count    324  People  \n",
       "2                      3                     Count    211  People  \n",
       "3                      4                     Count    182  People  \n",
       "4                      5                     Count    121  People  \n",
       "5                      1                     Count  15811  People  \n",
       "6                      2                     Count  16229  People  \n",
       "7                      3                     Count  15465  People  \n",
       "8                      4                     Count  14804  People  \n",
       "9                      5                     Count  14351  People  \n",
       "10                     1  rate-per-100-000-persons     26  People  \n",
       "11                     2  rate-per-100-000-persons     17  People  \n",
       "12                     3  rate-per-100-000-persons     10  People  \n",
       "13                     4  rate-per-100-000-persons      9  People  \n",
       "14                     5  rate-per-100-000-persons      6  People  "
      ]
     },
     "execution_count": 16,
     "metadata": {},
     "output_type": "execute_result"
    }
   ],
   "source": [
    "new_table"
   ]
  },
  {
   "cell_type": "code",
   "execution_count": null,
   "metadata": {
    "collapsed": true
   },
   "outputs": [],
   "source": []
  }
 ],
 "metadata": {
  "kernelspec": {
   "display_name": "Python 3",
   "language": "python",
   "name": "python3"
  },
  "language_info": {
   "codemirror_mode": {
    "name": "ipython",
    "version": 3
   },
   "file_extension": ".py",
   "mimetype": "text/x-python",
   "name": "python",
   "nbconvert_exporter": "python",
   "pygments_lexer": "ipython3",
   "version": "3.6.3"
  }
 },
 "nbformat": 4,
 "nbformat_minor": 2
}
